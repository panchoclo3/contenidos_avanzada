{
 "cells": [
  {
   "cell_type": "markdown",
   "metadata": {
    "colab_type": "text",
    "id": "5EWH_v04jmET"
   },
   "source": [
    "<p>\n",
    "<font size='5' face='Georgia, Arial'>IIC2233 Apunte Programación Avanzada</font><br>\n",
    "<font size='1'>&copy; 2015 Karim Pichara - Christian Pieringer. Todos los derechos reservados. Modificado el 2018-1, 2018-2, 2019-1, 2019-2, 2020-1, 2020-2, 2021-1, 2021-2 por Equipo docente IIC2233</font>\n",
    "</p>"
   ]
  },
  {
   "cell_type": "markdown",
   "metadata": {
    "colab_type": "text",
    "id": "tIuB-cVojmEU"
   },
   "source": [
    "## *Stacks*\n",
    "\n",
    "Un *stack* (o pila, en español) es una estructura de datos que funciona como si fuera una pila de objetos, uno arriba del otro. Por ejemplo, supongamos que estamos apilando platos para lavarlos. Cada vez que se agrega un plato al montón, éste se coloca arriba de la pila, y cuando queremos sacar un plato para lavarlo sacamos uno de arriba de la pila también, por lo que siempre sacaremos el último que hayamos puesto. \n",
    "\n",
    "Un *stack* tiene dos operaciones básicas:\n",
    "\n",
    "- ***Push***: Agrega un elemento al tope del *stack*.\n",
    "- ***Pop***: Elimina el elemento que está en el tope del *stack*. Esto siempre sacará el último elemento que haya sido agregado.\n",
    "\n",
    "Hay una tercera operación común entre varias estructuras llamada ***peek***, que sólo muestra el elemento que está en el tope sin sacarlo del *stack*. También, es posible consultar cuántos elementos tiene el *stack*, o si éste se encuentra vacío.\n",
    "\n",
    "![](img/stacks.png)\n",
    "\n",
    "El *stack* es una estructura de datos de tipo **Last In, First Out** (LIFO), es decir, lo último que entra es lo primero en salir. Como consecuencia, si queremos sacar el primer elemento, antes debemos sacar todos los demás."
   ]
  },
  {
   "cell_type": "markdown",
   "metadata": {
    "colab_type": "text",
    "id": "YTEUVy6AjmEV"
   },
   "source": [
    "## Implementación en Python\n",
    "\n",
    "En Python, podemos representar *stacks* mediante listas. A continuación, vemos una tabla con las operaciones del *stack* y su implementación en Python:\n",
    "\n",
    "| Operación                                  | Código Python            |Descripción                                           |\n",
    "|--------------------------------------------|--------------------------|------------------------------------------------------|\n",
    "| Crear *stack*                              | `stack = []`             |Crea un *stack* vacío                                 |\n",
    "| *Push*                                     | `stack.append(elemento)` |Agrega un elemento al tope del *stack*                |\n",
    "| *Pop*                                      | `stack.pop()`            |Retorna y extrae el elemento del tope del *stack*     |\n",
    "| *Peek*                                     | `stack[-1]`              |Retorna el elemento del tope del *stack* sin extraerlo|\n",
    "| *length*                                   | `len(stack)`             |Retorna la cantidad de elementos en el *stack*        |\n",
    "| *is\\_empty*                                | `len(stack) == 0`        |Retorna `true` si el *stack* está vacío               |"
   ]
  },
  {
   "cell_type": "markdown",
   "metadata": {
    "colab_type": "text",
    "id": "fkngr6lgjmEX"
   },
   "source": [
    "### Operaciones"
   ]
  },
  {
   "cell_type": "code",
   "execution_count": 10,
   "metadata": {
    "colab": {
     "autoexec": {
      "startup": false,
      "wait_interval": 0
     },
     "base_uri": "https://localhost:8080/",
     "height": 34,
     "output_extras": [
      {
       "item_id": 1
      }
     ]
    },
    "colab_type": "code",
    "executionInfo": {
     "elapsed": 620,
     "status": "ok",
     "timestamp": 1520877919147,
     "user": {
      "displayName": "Jaime Castro Retamal",
      "photoUrl": "//lh5.googleusercontent.com/-d7ImDI1yYBM/AAAAAAAAAAI/AAAAAAAADF4/eQh4r_ES9eE/s50-c-k-no/photo.jpg",
      "userId": "114351437388776670979"
     },
     "user_tz": 180
    },
    "id": "ZFiQDjNajmEX",
    "outputId": "ea586668-7362-4188-bb6a-ada7b363a818"
   },
   "outputs": [
    {
     "name": "stdout",
     "output_type": "stream",
     "text": [
      "[1, 2, 3]\n"
     ]
    }
   ],
   "source": [
    "# Un stack vacío\n",
    "stack = []\n",
    "\n",
    "# Hacemos push de tres elementos\n",
    "stack.append(1)\n",
    "stack.append(2)\n",
    "stack.append(3)\n",
    "\n",
    "print(stack)"
   ]
  },
  {
   "cell_type": "markdown",
   "metadata": {
    "colab_type": "text",
    "id": "IWLFq1FJWnOw"
   },
   "source": [
    "Ahora, si hacemos *pop* esperamos obtener el último elemento que agregamos:"
   ]
  },
  {
   "cell_type": "code",
   "execution_count": 11,
   "metadata": {
    "colab": {
     "autoexec": {
      "startup": false,
      "wait_interval": 0
     },
     "base_uri": "https://localhost:8080/",
     "height": 51,
     "output_extras": [
      {
       "item_id": 1
      }
     ]
    },
    "colab_type": "code",
    "executionInfo": {
     "elapsed": 765,
     "status": "ok",
     "timestamp": 1520877919978,
     "user": {
      "displayName": "Jaime Castro Retamal",
      "photoUrl": "//lh5.googleusercontent.com/-d7ImDI1yYBM/AAAAAAAAAAI/AAAAAAAADF4/eQh4r_ES9eE/s50-c-k-no/photo.jpg",
      "userId": "114351437388776670979"
     },
     "user_tz": 180
    },
    "id": "qFNycRYPWjsv",
    "outputId": "99c9fa6b-1372-4380-ab16-abe3b09d7fcd"
   },
   "outputs": [
    {
     "name": "stdout",
     "output_type": "stream",
     "text": [
      "Hicimos pop de 3\n",
      "El stack quedó: [1, 2]\n"
     ]
    }
   ],
   "source": [
    "# Pop\n",
    "elemento = stack.pop()\n",
    "print(f\"Hicimos pop de {elemento}\")\n",
    "print(f\"El stack quedó: {stack}\")"
   ]
  },
  {
   "cell_type": "markdown",
   "metadata": {
    "colab_type": "text",
    "id": "HuzR4L8BW9Ag"
   },
   "source": [
    "Ahora, si hacemos *peek* veremos el tope del *stack*, pero éste quedará intacto:"
   ]
  },
  {
   "cell_type": "code",
   "execution_count": 12,
   "metadata": {
    "colab": {
     "autoexec": {
      "startup": false,
      "wait_interval": 0
     },
     "base_uri": "https://localhost:8080/",
     "height": 51,
     "output_extras": [
      {
       "item_id": 1
      }
     ]
    },
    "colab_type": "code",
    "executionInfo": {
     "elapsed": 583,
     "status": "ok",
     "timestamp": 1520877920607,
     "user": {
      "displayName": "Jaime Castro Retamal",
      "photoUrl": "//lh5.googleusercontent.com/-d7ImDI1yYBM/AAAAAAAAAAI/AAAAAAAADF4/eQh4r_ES9eE/s50-c-k-no/photo.jpg",
      "userId": "114351437388776670979"
     },
     "user_tz": 180
    },
    "id": "Begzisy6XMxn",
    "outputId": "eba72d96-9ae0-4aef-8637-23d7a19c8b71"
   },
   "outputs": [
    {
     "name": "stdout",
     "output_type": "stream",
     "text": [
      "Tope del stack: 2\n",
      "Stack: [1, 2]\n"
     ]
    }
   ],
   "source": [
    "# Peek\n",
    "tope_stack = stack[-1]\n",
    "print(f\"Tope del stack: {tope_stack}\")\n",
    "print(f\"Stack: {stack}\")"
   ]
  },
  {
   "cell_type": "markdown",
   "metadata": {
    "colab_type": "text",
    "id": "xNbNi1BMXhlb"
   },
   "source": [
    "Por último, podemos ver cuántos elementos hay y si el *stack* está vacío:"
   ]
  },
  {
   "cell_type": "code",
   "execution_count": 13,
   "metadata": {
    "colab": {
     "autoexec": {
      "startup": false,
      "wait_interval": 0
     },
     "base_uri": "https://localhost:8080/",
     "height": 51,
     "output_extras": [
      {
       "item_id": 1
      }
     ]
    },
    "colab_type": "code",
    "executionInfo": {
     "elapsed": 546,
     "status": "ok",
     "timestamp": 1520877921206,
     "user": {
      "displayName": "Jaime Castro Retamal",
      "photoUrl": "//lh5.googleusercontent.com/-d7ImDI1yYBM/AAAAAAAAAAI/AAAAAAAADF4/eQh4r_ES9eE/s50-c-k-no/photo.jpg",
      "userId": "114351437388776670979"
     },
     "user_tz": 180
    },
    "id": "ebqdRU1jXqem",
    "outputId": "99ec91e7-2fbe-46bd-eca0-c64f83fb6fb2"
   },
   "outputs": [
    {
     "name": "stdout",
     "output_type": "stream",
     "text": [
      "El stack tiene 2 elementos.\n",
      "¿El stack está vacío? False\n"
     ]
    }
   ],
   "source": [
    "# Length\n",
    "print(f\"El stack tiene {len(stack)} elementos.\")\n",
    "\n",
    "# Función para revisar si el stack está vacío\n",
    "def is_empty(s):\n",
    "    return len(s) == 0\n",
    "\n",
    "print(f\"¿El stack está vacío? {is_empty(stack)}\")"
   ]
  },
  {
   "cell_type": "code",
   "execution_count": 14,
   "metadata": {
    "colab": {
     "autoexec": {
      "startup": false,
      "wait_interval": 0
     },
     "base_uri": "https://localhost:8080/",
     "height": 51,
     "output_extras": [
      {
       "item_id": 1
      }
     ]
    },
    "colab_type": "code",
    "executionInfo": {
     "elapsed": 587,
     "status": "ok",
     "timestamp": 1520877921845,
     "user": {
      "displayName": "Jaime Castro Retamal",
      "photoUrl": "//lh5.googleusercontent.com/-d7ImDI1yYBM/AAAAAAAAAAI/AAAAAAAADF4/eQh4r_ES9eE/s50-c-k-no/photo.jpg",
      "userId": "114351437388776670979"
     },
     "user_tz": 180
    },
    "id": "wWqYVzTDYfY0",
    "outputId": "42ad8a34-af2a-4db1-f3f3-7c65479b9a66"
   },
   "outputs": [
    {
     "name": "stdout",
     "output_type": "stream",
     "text": [
      "Stack: [1]\n",
      "¿El stack está vacío? False\n"
     ]
    }
   ],
   "source": [
    "stack.pop()\n",
    "print(f\"Stack: {stack}\")\n",
    "print(f\"¿El stack está vacío? {is_empty(stack)}\")"
   ]
  },
  {
   "cell_type": "code",
   "execution_count": 15,
   "metadata": {
    "colab": {
     "autoexec": {
      "startup": false,
      "wait_interval": 0
     },
     "base_uri": "https://localhost:8080/",
     "height": 51,
     "output_extras": [
      {
       "item_id": 1
      }
     ]
    },
    "colab_type": "code",
    "executionInfo": {
     "elapsed": 681,
     "status": "ok",
     "timestamp": 1520877922580,
     "user": {
      "displayName": "Jaime Castro Retamal",
      "photoUrl": "//lh5.googleusercontent.com/-d7ImDI1yYBM/AAAAAAAAAAI/AAAAAAAADF4/eQh4r_ES9eE/s50-c-k-no/photo.jpg",
      "userId": "114351437388776670979"
     },
     "user_tz": 180
    },
    "id": "aHt_gRerYiZ9",
    "outputId": "0150559f-2d74-4ec1-b415-637f480bbe50"
   },
   "outputs": [
    {
     "name": "stdout",
     "output_type": "stream",
     "text": [
      "Stack: []\n",
      "¿El stack está vacío? True\n"
     ]
    }
   ],
   "source": [
    "stack.pop()\n",
    "print(f\"Stack: {stack}\")\n",
    "print(f\"¿El stack está vacío? {is_empty(stack)}\")"
   ]
  },
  {
   "cell_type": "markdown",
   "metadata": {
    "colab_type": "text",
    "id": "CvYs-Za2YyYN"
   },
   "source": [
    "## Ejemplos de uso real"
   ]
  },
  {
   "cell_type": "markdown",
   "metadata": {
    "colab_type": "text",
    "id": "jPES-gDYjmEd"
   },
   "source": [
    "Un ejemplo real del uso de *stacks* en una aplicación es el botón *back* (volver) en los navegadores de internet. Durante la navegación todas las direcciones van siendo ingresadas en un *stack*. Cuando el usuario presiona el botón para retroceder en la navegación, la última dirección es recuperada.\n",
    "\n",
    "![](img/back-button-stacks.png)"
   ]
  },
  {
   "cell_type": "code",
   "execution_count": 7,
   "metadata": {
    "colab": {
     "autoexec": {
      "startup": false,
      "wait_interval": 0
     },
     "base_uri": "https://localhost:8080/",
     "height": 119,
     "output_extras": [
      {
       "item_id": 1
      }
     ]
    },
    "colab_type": "code",
    "executionInfo": {
     "elapsed": 866,
     "status": "ok",
     "timestamp": 1520878173469,
     "user": {
      "displayName": "Jaime Castro Retamal",
      "photoUrl": "//lh5.googleusercontent.com/-d7ImDI1yYBM/AAAAAAAAAAI/AAAAAAAADF4/eQh4r_ES9eE/s50-c-k-no/photo.jpg",
      "userId": "114351437388776670979"
     },
     "user_tz": 180
    },
    "id": "3WQ32ljLjmEf",
    "outputId": "6305f17a-d6f5-4d8f-8e1d-9bf1faee551b"
   },
   "outputs": [
    {
     "name": "stdout",
     "output_type": "stream",
     "text": [
      "Ir -> Cargando URL: http://www.uc.cl\n",
      "Ir -> Cargando URL: http://www.uc.cl/es/programas-de-estudio\n",
      "Ir -> Cargando URL: http://www.uc.cl/es/doctorado\n",
      "Página actual: http://www.uc.cl/es/doctorado\n",
      "Back-> Cargando URL: http://www.uc.cl/es/programas-de-estudio\n",
      "Página actual: http://www.uc.cl/es/programas-de-estudio\n",
      "Ir -> Cargando URL: https://stackoverflow.com/\n",
      "Ir -> Cargando URL: https://github.com/IIC2233/contenidos\n",
      "Back-> Cargando URL: https://stackoverflow.com/\n",
      "Página actual: https://stackoverflow.com/\n"
     ]
    }
   ],
   "source": [
    "class Navegador:\n",
    "\n",
    "    def __init__(self, current_url='https://www.google.com'):\n",
    "        self.__urls_stack = []\n",
    "        self.__current_url = current_url\n",
    "\n",
    "    def __cargar_url(self, url):\n",
    "        self.__current_url = url\n",
    "        print(f\"Cargando URL: {url}\")\n",
    "\n",
    "    def ir(self, url):\n",
    "        self.__urls_stack.append(self.__current_url)\n",
    "        print('Ir ->', end=' ')\n",
    "        self.__cargar_url(url)\n",
    "\n",
    "    def volver(self):\n",
    "        last_url = self.__urls_stack.pop()\n",
    "        print('Back->', end=' ')\n",
    "        self.__cargar_url(last_url)\n",
    "\n",
    "    def mostrar_pagina_actual(self):\n",
    "        print(f\"Página actual: {self.__current_url}\")\n",
    "\n",
    "\n",
    "browser = Navegador()\n",
    "browser.ir('http://www.uc.cl')\n",
    "browser.ir('http://www.uc.cl/es/programas-de-estudio')\n",
    "browser.ir('http://www.uc.cl/es/doctorado')\n",
    "\n",
    "browser.mostrar_pagina_actual()\n",
    "browser.volver()\n",
    "browser.mostrar_pagina_actual()\n",
    "browser.ir('https://stackoverflow.com/')\n",
    "browser.ir('https://github.com/IIC2233/contenidos')\n",
    "browser.volver()\n",
    "browser.mostrar_pagina_actual()"
   ]
  },
  {
   "cell_type": "markdown",
   "metadata": {
    "colab_type": "text",
    "id": "gGDY0MasjmEk"
   },
   "source": [
    "Otro ejemplo para el uso de pilas es revertir secuencias. Por ejemplo, con el siguiente código:"
   ]
  },
  {
   "cell_type": "code",
   "execution_count": 8,
   "metadata": {
    "cellView": "code",
    "colab": {
     "autoexec": {
      "startup": false,
      "wait_interval": 0
     },
     "base_uri": "https://localhost:8080/",
     "height": 238,
     "output_extras": [
      {
       "item_id": 1
      }
     ]
    },
    "colab_type": "code",
    "executionInfo": {
     "elapsed": 597,
     "status": "ok",
     "timestamp": 1520879167226,
     "user": {
      "displayName": "Jaime Castro Retamal",
      "photoUrl": "//lh5.googleusercontent.com/-d7ImDI1yYBM/AAAAAAAAAAI/AAAAAAAADF4/eQh4r_ES9eE/s50-c-k-no/photo.jpg",
      "userId": "114351437388776670979"
     },
     "user_tz": 180
    },
    "id": "4RroPdPPaY_n",
    "outputId": "b735e4f7-3eb4-401c-b324-0f93594d3160"
   },
   "outputs": [
    {
     "name": "stdout",
     "output_type": "stream",
     "text": [
      "Entrada:\n",
      "The friend who can be silent with us\n",
      "in a moment of despair or confusion,\n",
      "who can stay with us in an hour of grief and bereavement,\n",
      "who can tolerate not knowing... not healing, not curing...\n",
      "that is a friend who cares.\n",
      "\n",
      "Salida:\n",
      "that is a friend who cares.\n",
      "who can tolerate not knowing... not healing, not curing...\n",
      "who can stay with us in an hour of grief and bereavement,\n",
      "in a moment of despair or confusion,\n",
      "The friend who can be silent with us\n"
     ]
    }
   ],
   "source": [
    "class Texto:\n",
    "\n",
    "    def __init__(self, original):\n",
    "        self.pila = []\n",
    "        self.original = original\n",
    "\n",
    "    def invertir_lineas(self):\n",
    "        print('Entrada:')\n",
    "        for linea in self.original.split('\\n'):\n",
    "            print(linea)\n",
    "            self.pila.append(linea)\n",
    "        print()\n",
    "\n",
    "        print('Salida:')\n",
    "        while len(self.pila) > 0:\n",
    "            print(self.pila.pop())\n",
    "\n",
    "\n",
    "texto_original = \"\"\"The friend who can be silent with us\n",
    "in a moment of despair or confusion,\n",
    "who can stay with us in an hour of grief and bereavement,\n",
    "who can tolerate not knowing... not healing, not curing...\n",
    "that is a friend who cares.\"\"\"\n",
    "\n",
    "t = Texto(texto_original)\n",
    "t.invertir_lineas()\n"
   ]
  },
  {
   "cell_type": "markdown",
   "metadata": {},
   "source": [
    "**Puedes revisar el Ejercicio Propuesto 4.1 para practicar el uso de los métodos de *stacks*.**"
   ]
  },
  {
   "cell_type": "markdown",
   "metadata": {},
   "source": [
    "## Colas (*queues*)\n",
    "\n",
    "Una cola es una estructura de datos secuencial que mantiene objetos ordenados de acuerdo a su orden de llegada. Funciona igual a una cola para pagar las cuentas en el mundo real, pues cada vez que llega una persona ésta se coloca al final, y la persona que está al principio es atendida y sale de la fila. Es por esto que una cola es una estructura de tipo ***First-in, First-out*** (FIFO).\n",
    "\n",
    "![](img/queues.png)\n",
    "\n",
    "Una cola tiene dos operaciones principales:\n",
    "- ***Enqueue***: Agrega un elemento al final de la cola.\n",
    "- ***Dequeue***: Saca el elemento que está al inicio de la cola. Esto siempre sacará el elemento que lleva más tiempo en la cola.\n",
    "\n",
    "Además, tiene una operación ***peek*** que permite ver el primer elemento de la cola sin sacarlo, y es posible revisar la cantidad de elementos en la cola o si ésta se encuentra vacía.\n",
    "\n",
    "Si intentamos implementar una cola usando una lista de Python, encontraremos que implementar el ***enqueue*** es directo pues basta con realizar un `append` a la lista. Sin embargo, implementar ***dequeue*** mediante `pop(0)` **no es eficiente**. En una lista con $N$ elementos, al eliminar el elemento de la posición $0$, la lista queda de largo $N-1$, y el espacio que ocupaba ese elemento queda ahora vacío en la memoria del computador. La lista desplaza todos los otros elementos una posición a la izquierda: el de la posición $1$ pasa a la posición $0$, el de la posición $2$ pasa a la posición $1$, $\\dots,$ hasta que el de la posición $N$ pasa a la posición $N-1$. Por lo tanto, al ejecutar `pop(0)` se realizan $N$ operaciones: eliminar el elemento, y mover $N-1$ elementos a la izquierda. Decimos que esto es mucho más *costoso* que agregar un elemento a la cola (con `append`), donde solo se realiza una operación."
   ]
  },
  {
   "cell_type": "markdown",
   "metadata": {},
   "source": [
    "## Implementación en Python\n",
    "\n",
    "El módulo `collections` no provee exactamente la estructura *queue*, sino que una versión con más operaciones llamada *deque* (por *double ended queue*). Por ahora, nos limitaremos a indicar cómo implementar las operaciones de las colas con la clase `deque`, y en la siguiente sección profundizaremos en esta estructura.\n",
    "\n",
    "| Operación                 | Código Python           | Descripción                                           |\n",
    "|---------------------------|-------------------------|-------------------------------------------------------|\n",
    "| Crear cola                | `cola = deque()`        | Crea una cola vacía                                   |\n",
    "| Crear cola                | `cola = deque(lista)`   | Crea una cola a partir de los elementos de una lista  |\n",
    "| *Enqueue*                 | `cola.append(elemento)` | Agrega un elemento al final de la cola                |\n",
    "| *Dequeue*                 | `cola.popleft()`        | Retorna y extrae el elemento del principio de la cola |\n",
    "| *Peek*                    | `cola[0]`               | Retorna el primer elemento de la cola sin extraerlo   |\n",
    "| *length*                  | `len(cola)`             | Retorna la cantidad de elementos en la cola           |\n",
    "|*is_empty*                 | `len(cola) == 0`        | Retorna true si la cola está vacía                    |\n",
    "\n"
   ]
  },
  {
   "cell_type": "markdown",
   "metadata": {},
   "source": [
    "### Operaciones"
   ]
  },
  {
   "cell_type": "code",
   "execution_count": 1,
   "metadata": {},
   "outputs": [
    {
     "name": "stdout",
     "output_type": "stream",
     "text": [
      "deque([1, 2, 3])\n"
     ]
    }
   ],
   "source": [
    "# Importamos deque\n",
    "from collections import deque\n",
    "\n",
    "\n",
    "# Cola vacía\n",
    "cola = deque()\n",
    "\n",
    "# Agregamos elementos a la cola (enqueue)\n",
    "cola.append(1)\n",
    "cola.append(2)\n",
    "cola.append(3)\n",
    "\n",
    "print(cola)"
   ]
  },
  {
   "cell_type": "markdown",
   "metadata": {},
   "source": [
    "Ahora, mostramos como hacer *dequeue* con `popleft`."
   ]
  },
  {
   "cell_type": "code",
   "execution_count": 2,
   "metadata": {},
   "outputs": [
    {
     "name": "stdout",
     "output_type": "stream",
     "text": [
      "Hicimos dequeue de 1.\n",
      "La cola quedó: deque([2, 3])\n"
     ]
    }
   ],
   "source": [
    "# Dequeue\n",
    "elemento = cola.popleft()\n",
    "\n",
    "print(f\"Hicimos dequeue de {elemento}.\")\n",
    "print(f\"La cola quedó: {cola}\")"
   ]
  },
  {
   "cell_type": "markdown",
   "metadata": {},
   "source": [
    "Podemos ver el primer elemento de la cola sin extraerlo (*peek*)."
   ]
  },
  {
   "cell_type": "code",
   "execution_count": 3,
   "metadata": {},
   "outputs": [
    {
     "name": "stdout",
     "output_type": "stream",
     "text": [
      "Primer elemento de la cola: 2\n"
     ]
    }
   ],
   "source": [
    "# Peek\n",
    "print(f\"Primer elemento de la cola: {cola[0]}\")"
   ]
  },
  {
   "cell_type": "markdown",
   "metadata": {},
   "source": [
    "Por último, podemos ver cuántos elementos hay y si la cola está vacía."
   ]
  },
  {
   "cell_type": "code",
   "execution_count": 4,
   "metadata": {},
   "outputs": [
    {
     "name": "stdout",
     "output_type": "stream",
     "text": [
      "La cola tiene 2 elementos.\n",
      "¿La cola está vacía? False\n"
     ]
    }
   ],
   "source": [
    "# Length\n",
    "print(f\"La cola tiene {len(cola)} elementos.\")\n",
    "\n",
    "# Función para revisar si la cola está vacía\n",
    "def is_empty(s):\n",
    "    return len(s) == 0\n",
    "\n",
    "print(f\"¿La cola está vacía? {is_empty(cola)}\")"
   ]
  },
  {
   "cell_type": "code",
   "execution_count": 5,
   "metadata": {},
   "outputs": [
    {
     "name": "stdout",
     "output_type": "stream",
     "text": [
      "Cola: deque([3])\n",
      "¿La cola está vacía? False\n"
     ]
    }
   ],
   "source": [
    "cola.popleft()\n",
    "print(f\"Cola: {cola}\")\n",
    "print(f\"¿La cola está vacía? {is_empty(cola)}\")"
   ]
  },
  {
   "cell_type": "code",
   "execution_count": 6,
   "metadata": {},
   "outputs": [
    {
     "name": "stdout",
     "output_type": "stream",
     "text": [
      "Cola: deque([])\n",
      "¿La cola está vacía? True\n"
     ]
    }
   ],
   "source": [
    "cola.popleft()\n",
    "print(f\"Cola: {cola}\")\n",
    "print(f\"¿La cola está vacía? {is_empty(cola)}\")"
   ]
  },
  {
   "cell_type": "markdown",
   "metadata": {},
   "source": [
    "## Colas de doble extremo (*deque*)\n",
    "\n",
    "Un *deque* (*double-ended queue*, lo pronunciamos \"dec\") es una estructura secuencial en la que es posible **agregar y sacar elementos desde ambos extremos en forma eficiente**, con un *costo constante por operación*. Esto quiere decir que, independientemente del largo de un *deque*, si éste tiene $N$ elementos, para agregar y sacar elementos siempre ejecutará *la misma* cantidad de operaciones. Esto es mucho mejor que si utilizamos una *lista*, en que la cantidad de operaciones depende de la cantidad de elementos en la lista. En Python, esta estructura es provista por la clase `deque` del módulo `collections`. Las principales operaciones que soporta son:\n",
    "\n",
    "| Operación      | Código Python                | Descripción                                                      |\n",
    "|----------------|------------------------------|------------------------------------------------------------------|\n",
    "| Crear *deque*  | `deque()`                    | Crea un *deque* vacío                                            |\n",
    "| Crear *deque*  | `deque(lista)`               | Crea un *deque* a partir de los elementos de una lista           |\n",
    "| *Add first*    | `deque.appendleft(elemento)` | Agrega un elemento al inicio del *deque*                         |\n",
    "| *Add last*     | `deque.append(elemento)`     | Agrega un elemento al final del *deque*                          |\n",
    "| *Delete first* | `deque.popleft()`            | Retorna y extrae el primer elemento del *deque*                  |\n",
    "| *Delete last*  | `deque.pop()`                | Retorna y extrae el último elemento del *deque*                  |\n",
    "| *First*        | `deque[0]`                   | Retorna sin extraer el primer elemento del *deque*               |\n",
    "| *Last*         | `deque[-1]`                  | Retorna sin extraer el último elemento del *deque*               |\n",
    "| *length*       | `len(deque)`                 | Retorna el número de elementos en el *deque*                     |\n",
    "| *Is empty*     | `len(deque) == 0`            | Retorna true si el *deque* está vacío                            |\n",
    "| *Clear*        | `deque.clear()`              | Limpia el *deque*                                                |\n",
    "| *Remove*       | `deque.remove(elemento)`     | Saca el primer elemento del *deque* que sea igual a `elemento`   |\n",
    "| *Count*        | `deque.count(elemento)`      | Cuenta el número de elementos iguales a `elemento` en el *deque* |\n",
    "\n",
    "El *deque* soporta acceso de lectura y escritura en el elemento de la posición `i`, con la sentencia `deque[i]`. Sin embargo, esta operación **no es eficiente** como en el caso de las listas. En un *deque*, para llegar a la posición `i` el computador inicia en la posición `0` y se va moviendo hasta encontrar la posición `i` para poder leerlo (es decir, requiere recorrer todos los elementos anteriores a `i` para llegar a `i`). "
   ]
  },
  {
   "cell_type": "markdown",
   "metadata": {},
   "source": [
    "### Comparando `list` y `deque`\n",
    "\n",
    "En el siguiente código vamos a comparar el tiempo que demoran algunas operaciones en un `deque` y en un `list`. Vamos a crear un `deque` y un `list` de 10 millones de enteros cada uno, y luego vamos a comparar (1) el tiempo que toma encontrar el elemento que está en la mitad de cada uno, y (2) el tiempo que toma sacar 1000 elementos del inicio."
   ]
  },
  {
   "cell_type": "code",
   "execution_count": 7,
   "metadata": {},
   "outputs": [
    {
     "name": "stdout",
     "output_type": "stream",
     "text": [
      "Buscar el elemento 5000000 en el deque se demoró 0.013411 segundos.\n",
      "Buscar el elemento 5000000 en la lista se demoró 0.000030 segundos.\n",
      "La búsqueda en deque fue 450.00 veces el tiempo de list.\n",
      "\n",
      "Sacar los primeros 1000 elementos del deque se demoró   0.000097 segundos.\n",
      "Sacar los primeros 1000 elementos de la lista se demoró 2.845637 segundos.\n",
      "La extracción en list fue 29325.47 veces el tiempo de deque.\n",
      "\n"
     ]
    }
   ],
   "source": [
    "from collections import deque\n",
    "from time import time\n",
    "\n",
    "\n",
    "ELEMENTS = 10_000_000\n",
    "\n",
    "# Creamos un deque y una lista con 10.000.000 de enteros\n",
    "number_deque = deque(range(ELEMENTS))\n",
    "number_list = list(range(ELEMENTS))\n",
    "\n",
    "# Vemos el time actual\n",
    "start_time = time()\n",
    "# Buscamos el elemento del medio\n",
    "number_deque[ELEMENTS // 2]\n",
    "finish_time = time()\n",
    "deque_time = finish_time - start_time\n",
    "# Imprimimos el tiempo transcurrido\n",
    "print(f\"\"\"Buscar el elemento {ELEMENTS // 2} en el deque se demoró \"\"\"\n",
    "      f\"\"\"{deque_time:.6f} segundos.\"\"\")\n",
    "\n",
    "\n",
    "# Vemos el time actual\n",
    "start_time = time()\n",
    "# Buscamos el elemento del medio\n",
    "number_list[ELEMENTS // 2]\n",
    "finish_time = time()\n",
    "list_time = finish_time - start_time\n",
    "# Imprimimos el tiempo transcurrido\n",
    "print(f\"\"\"Buscar el elemento {ELEMENTS // 2} en la lista se demoró \"\"\"\n",
    "      f\"\"\"{list_time:.6f} segundos.\"\"\")\n",
    "if list_time > 0.0:\n",
    "    print(f\"La búsqueda en deque fue {deque_time/list_time:.2f} veces el tiempo de list.\")\n",
    "else:\n",
    "    print(\"Ups, tu computador es demasiado rápido.\")\n",
    "print()\n",
    "\n",
    "# Vamos a hacer pop de los primeros 1000 elementos del deque\n",
    "start_time = time()\n",
    "N = 1000\n",
    "for i in range(0, N):\n",
    "    number_deque.popleft()\n",
    "finish_time = time()\n",
    "deque_time = finish_time - start_time\n",
    "print(f\"Sacar los primeros {N} elementos del deque se demoró   {deque_time:.6f} segundos.\")\n",
    "\n",
    "# Vamos a hacer pop de los primeros 1000 elementos de la lista\n",
    "start_time = time()\n",
    "N = 1000\n",
    "for i in range(0, N):\n",
    "    number_list.pop(0)\n",
    "finish_time = time()\n",
    "list_time = finish_time - start_time\n",
    "print(f\"Sacar los primeros {N} elementos de la lista se demoró {list_time:.6f} segundos.\")\n",
    "if deque_time > 0.0:\n",
    "    print(f\"La extracción en list fue {list_time/deque_time:.2f} veces el tiempo de deque.\")\n",
    "else:\n",
    "    print(\"Ups, tu computador es demasiado rápido.\")\n",
    "print()"
   ]
  },
  {
   "cell_type": "markdown",
   "metadata": {},
   "source": [
    "Nuestro experimento nos permite apreciar que (1) **acceder a un elemento de la mitad** de una cola implementada con `list` es mucho más rápido que con `deque`, y (2) **extraer un elemento del inicio** de una cola implementada con `deque` es mucho más rápido que con `list`. Es importante conocer estas diferencias al momento de elegir una estructura de datos adecuada para nuestros programas."
   ]
  },
  {
   "cell_type": "markdown",
   "metadata": {},
   "source": [
    "Se puede ver que con un *deque* es posible simular un *stack* o una cola como las que ya hemos visto. Esto pues un *deque* puede hacer todas las operaciones que requieren ambas estructuras con la misma eficiencia. Es por eso que se dice que esta estructura es una **generalización de los *stacks* y colas**."
   ]
  },
  {
   "cell_type": "markdown",
   "metadata": {},
   "source": [
    "### Ejemplo de uso con palíndromos\n",
    "\n",
    "A continuación un ejemplo simple de chequeo de palabras palíndromas usando un *deque*. La palabra es almacenada en un *deque* y las letras de los extremos son extraídas simultáneamente comparadas hasta que quede una sola letra. El recorrido se hace de manera **recursiva**."
   ]
  },
  {
   "cell_type": "code",
   "execution_count": 8,
   "metadata": {},
   "outputs": [
    {
     "name": "stdout",
     "output_type": "stream",
     "text": [
      "True\n",
      "False\n",
      "True\n",
      "False\n",
      "True\n"
     ]
    }
   ],
   "source": [
    "from collections import deque\n",
    "\n",
    "\n",
    "def es_palindrome(palabra):\n",
    "    cola = deque(palabra)\n",
    "    return es_palindrome_rec(cola)\n",
    "\n",
    "\n",
    "def es_palindrome_rec(palabra):\n",
    "    if len(palabra) <= 1:\n",
    "        return True\n",
    "    else:\n",
    "        return palabra.popleft() == palabra.pop() \\\n",
    "                and es_palindrome_rec(palabra)\n",
    "\n",
    "\n",
    "print(es_palindrome(\"reconocer\"))\n",
    "print(es_palindrome(\"espectaculo\"))\n",
    "print(es_palindrome(\"ana\"))\n",
    "print(es_palindrome(\"OssA\"))\n",
    "print(es_palindrome(\"OssO\"))"
   ]
  },
  {
   "cell_type": "markdown",
   "metadata": {},
   "source": [
    "**Nota**: En Python lo más directo para chequear si un *string* es palíndromo es simplemente comparar `palabra == palabra[::-1]`"
   ]
  },
  {
   "cell_type": "markdown",
   "metadata": {},
   "source": [
    "**Puedes revisar el Ejercicio Propuesto 4.2 para practicar la implementación de una estructura que se comporta de forma similar a una cola.**"
   ]
  }
 ],
 "metadata": {
  "colab": {
   "collapsed_sections": [],
   "default_view": {},
   "name": "02-pilas.ipynb",
   "provenance": [],
   "version": "0.3.2",
   "views": {}
  },
  "kernelspec": {
   "display_name": "Python 3 (ipykernel)",
   "language": "python",
   "name": "python3"
  },
  "language_info": {
   "codemirror_mode": {
    "name": "ipython",
    "version": 3
   },
   "file_extension": ".py",
   "mimetype": "text/x-python",
   "name": "python",
   "nbconvert_exporter": "python",
   "pygments_lexer": "ipython3",
   "version": "3.10.6"
  }
 },
 "nbformat": 4,
 "nbformat_minor": 4
}
