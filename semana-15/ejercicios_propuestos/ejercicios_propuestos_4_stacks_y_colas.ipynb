{
 "cells": [
  {
   "cell_type": "markdown",
   "metadata": {},
   "source": [
    "<p>\n",
    "<font size='5' face='Georgia, Arial'>IIC-2233 Apunte Programación Avanzada</font><br>\n",
    "<font size='1'> Ejercicios creados a partir de 2019-2 por Equipo Docente IIC2233. </font>\n",
    "<font size='1'> Actualizados el 2023-2.</font>\n",
    "</p>\n",
    "\n",
    "\n",
    "# Ejercicios propuestos: Estructuras Nodales\n",
    "## Stack"
   ]
  },
  {
   "cell_type": "markdown",
   "metadata": {},
   "source": [
    "Los siguientes problemas se proveen como oportunidad de ejercitar los conceptos revisados en el material de **estructuras nodales**. Si tienes dudas sobre algún problema o alguna solución, no dudes en dejar una *issue* en el [foro del curso](https://github.com/IIC2233/syllabus/issues)."
   ]
  },
  {
   "cell_type": "markdown",
   "metadata": {},
   "source": [
    "### Ejercicio 1: Torre de Hanói"
   ]
  },
  {
   "cell_type": "markdown",
   "metadata": {},
   "source": [
    "Una Torre de Hanói es un rompecabezas consistente en una serie de discos perforados que deben trasladarse desde su posición inicial en el primer pilar, ordenados desde el más grande abajo hasta el más pequeño arriba, hasta la misma posición pero en el tercer pilar. Sin embargo, hay una regla importante: **debes trasladar los discos al tercer poste moviendo un disco a la vez y sin colocar un disco grande encima de uno pequeño**. Ahora implementarás tu propia versión de este rompecabezas.\n",
    "\n",
    "![](../img/hanoi-1.png)\n",
    "\n",
    "La clase `TorreDeHanoi` está conformada por 3 pilares, donde cada uno es un *stack*, ya que solo puedes añadir y quitar discos por un extremo de cada pilar. La clase viene con los métodos `__init__` y `__str__` implementados, por lo que puedes ver el estado inicial de la torre. Sin embargo, **solo con métodos de *stacks***, deberás implementar el método `mover_disco`, que recibe el número del pilar desde donde sale el disco y el número del pilar al que llega un disco. Cabe destacar que el tamaño de un disco está representado por el número contenido en el pilar (por ejemplo, el 6 representa al disco más grande y el 1 al más pequeño). Una vez que implementes este método, te retamos a hacer una función que ocupe las operaciones de *stacks* necesarias para mover el disco. **Recuerda no colocar un disco grande encima de uno pequeño**.\n",
    "\n",
    "![](../img/hanoi-2.png)\n",
    "\n",
    "**PS:** Además, te retamos a: (1) verificar que un movimiento es válido (no queda un disco grande sobre uno pequeño) y (2) crear una función que verifique si el rompecabezas fue completado correctamente."
   ]
  },
  {
   "cell_type": "code",
   "execution_count": 12,
   "metadata": {},
   "outputs": [],
   "source": [
    "from functools import reduce\n",
    "class TorreDeHanoi:\n",
    "\n",
    "    def __init__(self):\n",
    "        self.pilares = {1: [6, 5, 4, 3, 2, 1], \n",
    "                        2: [],\n",
    "                        3: []}\n",
    "\n",
    "    def mover_disco(self, pilar_origen, pilar_destino):\n",
    "        if self.is_valid(pilar_origen, pilar_destino):\n",
    "            disco = self.pilares[pilar_origen].pop()\n",
    "            self.pilares[pilar_destino].append(disco)\n",
    "        \n",
    "\n",
    "    def is_valid(self, pilar_origen , pilar_destino):\n",
    "        disco_origen = self.pilares[pilar_origen][-1]\n",
    "        if self.pilares[pilar_destino] == []:\n",
    "            return True\n",
    "        disco_destino = self.pilares[pilar_destino][-1]\n",
    "        return disco_destino < disco_origen\n",
    "\n",
    "    def __str__(self):\n",
    "        output = \"\"\n",
    "        # Range termina con -1 para recorrer al revés\n",
    "        for i in range(5, -1, -1):\n",
    "            fila = \" \"  # Armamos una fila a la vez, desde arriba\n",
    "            # Pilar 1\n",
    "            if len(self.pilares[1]) > i:\n",
    "                fila += str(self.pilares[1][i]) + \" \"\n",
    "            else:\n",
    "                fila += \"x \"\n",
    "            # Pilar 2\n",
    "            if len(self.pilares[2]) > i:\n",
    "                fila += str(self.pilares[2][i]) + \" \"\n",
    "            else:\n",
    "                fila += \"x \"\n",
    "            # Pilar 3\n",
    "            if len(self.pilares[3]) > i:\n",
    "                fila += str(self.pilares[3][i]) + \" \"\n",
    "            else:\n",
    "                fila += \"x \"\n",
    "            output += fila + \"\\n\"\n",
    "        output += \"=\" * 7 + \"\\n\"\n",
    "        return output"
   ]
  },
  {
   "cell_type": "code",
   "execution_count": 14,
   "metadata": {},
   "outputs": [
    {
     "name": "stdout",
     "output_type": "stream",
     "text": [
      " x x x \n",
      " 2 x x \n",
      " 3 x x \n",
      " 4 x x \n",
      " 5 x x \n",
      " 6 1 x \n",
      "=======\n",
      "\n"
     ]
    }
   ],
   "source": [
    "torre_de_hanoi = TorreDeHanoi()\n",
    "torre_de_hanoi.mover_disco(1, 2)  # Del pilar 1 al pilar 2\n",
    "print(torre_de_hanoi)"
   ]
  },
  {
   "cell_type": "markdown",
   "metadata": {},
   "source": [
    "## Colas"
   ]
  },
  {
   "cell_type": "markdown",
   "metadata": {},
   "source": [
    "### Ejercicio 2: Comandos de Git"
   ]
  },
  {
   "cell_type": "markdown",
   "metadata": {},
   "source": [
    "En este ejercicio debes intentar simular los comandos básicos de `git`: `add`, `commit` y `push` usando, para cada una de ellos, alguna estructura básica. Para esto, se te entrega la clase `Repositorio` en donde debes completar los siguientes métodos.\n",
    "\n",
    "- `git add`: No debe dejar que suba a tu repositorio **archivos repetidos**.\n",
    "- `git commit`: Aquí confirmas los cambios que indicaste con `git add` y los dejas \"*en espera*\" según una lógica **FIFO** ( _First in, First out_ ). \n",
    "- `git push`: Se realizan los cambios pedidos en el repositorio.\n",
    "\n",
    "Por simplicidad, considera que cada cambio será agregar o eliminar archivos, y no modificaciones a un archivo.\n",
    "\n",
    "Puedes empezar con el siguiente código:"
   ]
  },
  {
   "cell_type": "code",
   "execution_count": null,
   "metadata": {},
   "outputs": [],
   "source": [
    "from collections import deque\n",
    "class Repositorio:\n",
    "\n",
    "    def __init__(self, archivos=[]):\n",
    "        self.archivos_remotos = []\n",
    "        self.archivos_locales = archivos\n",
    "        self.cola = deque(self.archivos_locales)\n",
    "\n",
    "    def git_add(self, archivos):\n",
    "        for archivo in archivos:\n",
    "            if archivo in self.archivos_locales:\n",
    "                pass\n",
    "            else:\n",
    "                self.archivos_locales.append(archivo)\n",
    "\n",
    "    def git_commit(self, comentario):\n",
    "        print(comentario)\n",
    "        for archivo in self.archivos_locales:\n",
    "            self.cola.append(archivo)\n",
    "\n",
    "    def git_push(self):\n",
    "        # debes completar aquí\n",
    "        pass\n",
    "\n",
    "\n",
    "if __name__ == \"__main__\":\n",
    "    mi_repo = Repositorio([\"main.py\", \"windows.py\", \"user.txt\"])\n",
    "    mi_repo.git_add('README.md')\n",
    "    mi_repo.git_commit('Agregado el README :D')\n",
    "    mi_repo.git_push()\n",
    "    mi_repo.git_add([\"data.json\", \"client.py\", \"user.txt\"])\n",
    "    mi_repo.git_commit(\"subiendo datos\")\n",
    "    mi_repo.git_push()"
   ]
  },
  {
   "cell_type": "markdown",
   "metadata": {},
   "source": [
    "### Ejercicio 3: Modelando *stacks* con listas ligadas"
   ]
  },
  {
   "cell_type": "markdown",
   "metadata": {},
   "source": [
    "Si recordamos las estructuras secuenciales revisadas en el material de estructuras *built-ins*, una de ellas eran los *stacks*. Los *stacks* o pilas son estructuras de orden lineal, similar a las listas, pero cuya propiedad era que seguían el orden LIFO: el último elemento en agregarse, es el primero en sacarse. Se le llama tope de la pila al último elemento que fue agregado, y que será el próximo en salir si se le pide.\n",
    "\n",
    "A continuación se te entregan clases para nodos de *stack* y de *stack*. Debes completar `Stack` para modelar e imitar el comportamiento de un *stack* utilizando referencias nodales, sin el uso de listas u otras estructuras secuenciales ya construidas. Se te entregan todos los atributos necesarios para lograr modelarlo."
   ]
  },
  {
   "cell_type": "code",
   "execution_count": 41,
   "metadata": {},
   "outputs": [],
   "source": [
    "class NodoStack:\n",
    "\n",
    "    def __init__(self, valor):\n",
    "        self.valor = valor\n",
    "        self.anterior = None\n",
    "    \n",
    "    def __repr__(self) -> str:\n",
    "        return str(self.valor)\n",
    "\n",
    "\n",
    "class Stack:\n",
    "\n",
    "    def __init__(self):\n",
    "        self.tope = None\n",
    "\n",
    "    def push(self, valor):\n",
    "        \"\"\"\n",
    "        Agrega un elemento al tope del stack.\n",
    "        \"\"\"\n",
    "        if self.tope is None:\n",
    "            self.tope = NodoStack(valor)\n",
    "        else:\n",
    "            nuevo_nodo = NodoStack(valor)\n",
    "            nuevo_nodo.anterior = self.tope\n",
    "            self.tope = nuevo_nodo\n",
    "\n",
    "    def pop(self):\n",
    "        \"\"\"\n",
    "        Retorna y extrae el elemento del tope del stack.\n",
    "        \"\"\"\n",
    "        tope = self.tope\n",
    "\n",
    "        self.tope = self.tope.anterior\n",
    "\n",
    "        return tope\n",
    "\n",
    "    def peek(self):\n",
    "        \"\"\"\n",
    "        Retorna el elemento del tope del _stack_\n",
    "        sin extraerlo de la estructura.\n",
    "        \"\"\"\n",
    "        return self.tope.valor\n",
    "\n",
    "    def is_empty(self):\n",
    "        \"\"\"\n",
    "        Retorna True si el stack está vacío.\n",
    "        \"\"\"\n",
    "        return self.tope == None"
   ]
  },
  {
   "cell_type": "code",
   "execution_count": 42,
   "metadata": {},
   "outputs": [
    {
     "name": "stdout",
     "output_type": "stream",
     "text": [
      "5\n",
      "4\n",
      "6\n",
      "7\n",
      "6\n",
      "3\n",
      "False\n"
     ]
    }
   ],
   "source": [
    "mi_stack = Stack()\n",
    "mi_stack.push(1)  # 1\n",
    "mi_stack.push(2)  # 1, 2\n",
    "mi_stack.push(3)  # 1, 2, 3\n",
    "mi_stack.push(4)  # 1, 2, 3, 4\n",
    "mi_stack.push(5)  # 1, 2, 3, 4, 5\n",
    "print(mi_stack.pop())  # 5\n",
    "print(mi_stack.pop())  # 4\n",
    "mi_stack.push(6)  # 1, 2, 3, 6\n",
    "print(mi_stack.peek())  # 6\n",
    "mi_stack.push(7)  # 1, 2, 3, 6, 7\n",
    "print(mi_stack.pop())  # 7\n",
    "print(mi_stack.pop())  # 6\n",
    "print(mi_stack.pop())  # 3\n",
    "print(mi_stack.is_empty())  # False"
   ]
  },
  {
   "cell_type": "code",
   "execution_count": null,
   "metadata": {},
   "outputs": [],
   "source": []
  }
 ],
 "metadata": {
  "kernelspec": {
   "display_name": "Python 3 (ipykernel)",
   "language": "python",
   "name": "python3"
  },
  "language_info": {
   "codemirror_mode": {
    "name": "ipython",
    "version": 3
   },
   "file_extension": ".py",
   "mimetype": "text/x-python",
   "name": "python",
   "nbconvert_exporter": "python",
   "pygments_lexer": "ipython3",
   "version": "3.11.5"
  }
 },
 "nbformat": 4,
 "nbformat_minor": 4
}
