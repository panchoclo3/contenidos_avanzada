{
 "cells": [
  {
   "cell_type": "markdown",
   "metadata": {},
   "source": [
    "<p>\n",
    "<font size='5' face='Georgia, Arial'>IIC-2233 Apunte Programación Avanzada</font><br>\n",
    "<font size='1'> Ejercicios creados a partir de 2019-2 por Equipo Docente IIC2233. </font>\n",
    "<font size='1'> Actualizados el 2023-2.</font>\n",
    "</p>\n",
    "\n",
    "\n",
    "# Ejercicios propuestos: Estructuras Nodales\n",
    "## Árboles"
   ]
  },
  {
   "cell_type": "markdown",
   "metadata": {},
   "source": [
    "Los siguientes problemas se proveen como oportunidad de ejercitar los conceptos revisados en el material de **estructuras nodales**. Si tienes dudas sobre algún problema o alguna solución, no dudes en dejar una *issue* en el [foro del curso](https://github.com/IIC2233/syllabus/issues)."
   ]
  },
  {
   "cell_type": "markdown",
   "metadata": {},
   "source": [
    "### Ejercicio 1: El árbol del conejo malo."
   ]
  },
  {
   "cell_type": "markdown",
   "metadata": {},
   "source": [
    "En este ejercicio, se te incluye el ejemplo de la clase `Arbol` del material de estudio de esta semana, además de la función `cargar_contenido(ruta)` que carga un archivo CSV con el contenido a cargarse en un árbol:"
   ]
  },
  {
   "cell_type": "code",
   "execution_count": 1,
   "metadata": {},
   "outputs": [],
   "source": [
    "# textwrap tiene varias funciones convenientes para el manejo de strings\n",
    "from textwrap import indent\n",
    "\n",
    "\n",
    "class Arbol:\n",
    "    \"\"\"\n",
    "    Esta clase representa un árbol.\n",
    "\n",
    "    La estructura es recursiva, de manera que cada nodo es la raíz\n",
    "    de un sub-árbol. Los nodos hijos pueden ser guardados en una estructura,\n",
    "    como lista o diccionario.\n",
    "    En este ejemplo, los nodos hijos serán guardados en un diccionario.\n",
    "    \"\"\"\n",
    "\n",
    "    def __init__(self, id_nodo, valor=None, padre=None):\n",
    "        \"\"\"\n",
    "        Inicializa la estructura básica del árbol.\n",
    "\n",
    "        Tiene un identificador propio, la referencia a su padre,\n",
    "        el valor almacenado y una estructura con sus hijos.\n",
    "        \"\"\"\n",
    "        self.id_nodo = id_nodo\n",
    "        self.padre = padre\n",
    "        self.valor = valor\n",
    "        self.hijos = {}\n",
    "\n",
    "    def obtener_nodo(self, id_nodo):\n",
    "        \"\"\"\n",
    "        Obtiene el nodo con el id dado, en forma recursiva.\n",
    "\n",
    "        A partir del nodo actual, buscamos el nodo 'id_nodo' entre sus hijos\n",
    "        y lo retornamos si existe.\n",
    "        \"\"\"\n",
    "        # Caso base: ¡Lo encontramos!\n",
    "        if self.id_nodo == id_nodo:\n",
    "            return self\n",
    "\n",
    "        # Buscamos recursivamente entre los hijos\n",
    "        for hijo in self.hijos.values():\n",
    "            nodo = hijo.obtener_nodo(id_nodo)\n",
    "            # Si lo encontró, lo retornamos\n",
    "            if nodo is not None:\n",
    "                return nodo\n",
    "\n",
    "        # Si no lo encuentra, retorna None\n",
    "        return None\n",
    "\n",
    "    def agregar_nodo(self, id_nodo, valor, id_padre):\n",
    "        \"\"\"\n",
    "        Agrega un nodo con el id y valor dado,\n",
    "        como hijo del nodo con el id 'id_padre'\n",
    "        \"\"\"\n",
    "        # Primero, tenemos que encontrar al padre\n",
    "        padre = self.obtener_nodo(id_padre)\n",
    "        # En caso de que el padre no exista no hacemos nada\n",
    "        if padre is None:\n",
    "            return\n",
    "\n",
    "        # Creamos el nodo\n",
    "        # Nos aseguramos de que el nodo nuevo sea del mismo tipo que la raíz\n",
    "        # Por ahora, la siguiente línea es equivalente a:\n",
    "        # Arbol(id_nodo, valor, padre)\n",
    "        nodo = type(self)(id_nodo, valor, padre)  # Esto lo ocuparemos cuando\n",
    "                                                  # sea otra clase que herede\n",
    "                                                  # de Arbol\n",
    "        # Agregamos el nodo como hijo de su padre\n",
    "        padre.hijos[id_nodo] = nodo\n",
    "\n",
    "    def __repr__(self):\n",
    "        \"\"\"\n",
    "        Entrega una representación del árbol, en forma recursiva.\n",
    "\n",
    "        Para ello, tenemos que pedir la representación de cada hijo\n",
    "        recursivamente. Esto nos lleva a recorrer todos los nodos del árbol.\n",
    "        \"\"\"\n",
    "        # Texto de este nodo\n",
    "        texto = f\"id: {self.id_nodo}, valor: {self.valor}\"\n",
    "        # Si el nodo es hoja, se avisa de ello.\n",
    "        # Si el nodo no es hoja, se deja un salto de línea para\n",
    "        # poder nombrar a los hijos\n",
    "        texto += ', nodo hoja' if len(self.hijos) == 0 else '\\n'\n",
    "\n",
    "        # Extrae el repr de cada hijo, en forma recursiva\n",
    "        repr_hijos = [repr(hijo) for hijo in self.hijos.values()]\n",
    "\n",
    "        # Indentamos cada línea del texto de los hijos con tres espacios\n",
    "        # Esto es para que se note el nivel del nodo.\n",
    "        texto_hijos = [indent(texto_hijo, \"   \") for texto_hijo in repr_hijos]\n",
    "        \n",
    "        # Usamos join para juntar todos los strings anteriores con un\n",
    "        # salto de línea entre cada uno\n",
    "        return texto + \"\\n\".join(texto_hijos)"
   ]
  },
  {
   "cell_type": "code",
   "execution_count": 2,
   "metadata": {},
   "outputs": [],
   "source": [
    "def cargar_contenido(ruta):\n",
    "    contenido = []\n",
    "    with open(ruta, \"r\", encoding=\"utf-8\") as archivo:\n",
    "        for line in archivo.readlines():\n",
    "            nodo = line.strip().split(\",\")\n",
    "            \n",
    "            if nodo[2] == '0':\n",
    "                indice, valor, padre = int(nodo[0]), nodo[1], int(nodo[2])\n",
    "            else:\n",
    "                indice, valor, padre = int(nodo[0]), nodo[1].split(';'), int(nodo[2])\n",
    "                valor[1] = int(valor[1])\n",
    "            contenido.append([indice, valor, padre])\n",
    "            # print([indice, valor, padre])\n",
    "    return contenido "
   ]
  },
  {
   "cell_type": "markdown",
   "metadata": {},
   "source": [
    "La función anterior retorna una lista de listas con la información de nodos para un árbol, de la forma:\n",
    "```\n",
    "[indice_nodo, valor_nodo, indice_padre_de_nodo]\n",
    "```"
   ]
  },
  {
   "cell_type": "markdown",
   "metadata": {},
   "source": [
    "El objetivo de este ejercicio es descubrir cuál es el álbum de mayor duración del gran **Bad Bunny**, y para lograrlo utilizaremos un árbol. \n",
    "Tendrás que utilizar la clase `Arbol` con sus métodos para construir un árbol con información sobre la discografía de **Bad Bunny**.\n",
    "Específicamente, la raíz del árbol representará al Conejo Malo, sus hijos directos serán los nombres de sus álbums, y los hijos de nodos con álbums son canciones. Para cada canción, se cuenta con su nombre junto a su duración.\n",
    "\n",
    "El valor de los nodos que contienen a las canciones serán de la forma `[nombre_cancion, duracion]` (duración en segundos), en cambio, el valor del resto de los nodos será de la forma `nombre_album`.\n",
    "\n",
    "Para ordenar tu programa, se te entrega una base a continuación. Primero, se instancia el árbol con la raíz: `'El Conejo Malo'`, luego se carga el contenido (`cargar_contenido`) de un archivo CSV con la información estructural del árbol. Luego se llama a `completar_arbol` que completa el árbol creado a partir de los datos cargados, y finalmente se llama a `encontrar_max_duracion` que recorre el árbol y **retorna la canción con mayor duración** contenida.\n",
    "\n",
    "Debes completar las funciones `completar_arbol(arbol, contenido)` y `encontrar_max_duracion(arbol)` para lograr el importante objetivo de este ejercicio."
   ]
  },
  {
   "cell_type": "code",
   "execution_count": null,
   "metadata": {},
   "outputs": [],
   "source": [
    "def completar_arbol(arbol, contenido):\n",
    "    # Completar\n",
    "    pass\n",
    "\n",
    "def encontrar_max_duracion(arbol):\n",
    "    # Completar\n",
    "    pass"
   ]
  },
  {
   "cell_type": "code",
   "execution_count": null,
   "metadata": {},
   "outputs": [],
   "source": [
    "import os\n",
    "\n",
    "bad_bunny = Arbol(0, 'El Conejo Malo')\n",
    "\n",
    "contenido = cargar_contenido(os.path.join('data', 'badbunny.csv'))\n",
    "\n",
    "completar_arbol(bad_bunny, contenido)\n",
    "\n",
    "encontrar_max_duracion(bad_bunny)"
   ]
  },
  {
   "cell_type": "markdown",
   "metadata": {},
   "source": [
    "### Ejercicio 2: Implementar un Árbol Binario."
   ]
  },
  {
   "cell_type": "markdown",
   "metadata": {},
   "source": [
    "Debes implementar el mencionado árbol binario de los contenidos. Es bastante similar al caso genérico ya presentado, pero con la diferencia de que en vez de tener una estructura interna `self.hijos` para almacenar cualquier cantidad de hijos, debe tener dos referencias directas a sub-árboles binarios: `self.hijo_izquierdo` y `self.hijo_derecho`. Esto cambia levemente las implementaciones de `obtener_nodo`, `agregar_nodo` y `__repr__`. Notar que también cambian los argumentos de `agregar_nodo`, ya que es necesario incluir en cuál posición se agrega el hijo, si como izquierdo o derecho. \n",
    "\n",
    "A continuación se agregan la base de la clase junto con código de ejemplo para usar."
   ]
  },
  {
   "cell_type": "code",
   "execution_count": null,
   "metadata": {},
   "outputs": [],
   "source": [
    "# textwrap tiene varias funciones convenientes para el manejo de strings\n",
    "from textwrap import indent\n",
    "\n",
    "\n",
    "class ArbolBinario:\n",
    "    def __init__(self, id_nodo, valor=None, padre=None):\n",
    "        self.id_nodo = id_nodo\n",
    "        self.padre = padre\n",
    "        self.valor = valor\n",
    "        self.hijo_izquierdo = None\n",
    "        self.hijo_derecho = None\n",
    "\n",
    "    def obtener_nodo(self, id_nodo):\n",
    "        \"\"\"\n",
    "        Obtiene el nodo con el id dado.\n",
    "        \"\"\"\n",
    "        pass\n",
    "\n",
    "    def agregar_nodo(self, id_nodo, valor, id_padre, orientacion):\n",
    "        \"\"\"\n",
    "        Agrega un nodo con el id y valor dado,\n",
    "        como hijo del nodo con el id 'id_padre'.\n",
    "        \"\"\"\n",
    "        pass\n",
    "\n",
    "    def __repr__(self):\n",
    "        \"\"\"\n",
    "        Entrega una representación del árbol.\n",
    "        \"\"\"\n",
    "        pass"
   ]
  },
  {
   "cell_type": "markdown",
   "metadata": {},
   "source": [
    "### Ejercicio 3: Implementar una búsqueda BFS con profundidad máxima."
   ]
  },
  {
   "cell_type": "markdown",
   "metadata": {},
   "source": [
    "En este ejercicio debes implementar una forma de búsqueda que combina BFS con búsqueda en profundidad.\n",
    "\n",
    "Concretamente, tienes que re-implementar el método `recorrer` para que itere sobre los nodos del árbol siguiendo un orden BFS, pero ahora de tal forma que **no sólo** retorne nodos, sino que también incluya la profundidad de cada nodo. La profundidad en este contexto corresponde a la cantidad de conexiones que se encuentra un nodo de la raíz. La raíz entonces se encuentra a profundidad **`0`**, sus hijos a profundidad `1`, y así sucesivamente...\n",
    "\n",
    "Luego, tienes que implementar `recorrer_con_profundidad` que recibe `profundidad_max` como argumento. El método recorre los nodos del árbol cuya profundidad es menor que `profundidad_max`, siguiendo el orden entregado por `recorrer`."
   ]
  },
  {
   "cell_type": "code",
   "execution_count": null,
   "metadata": {},
   "outputs": [],
   "source": [
    "from collections import deque\n",
    "\n",
    "\n",
    "# Arbol es la clase original de Arbol del material.\n",
    "# Si deseas probar tu código, copia y pega la implementación antes.\n",
    "# Así podrás construir un árbol correctamente antes de recorrerlo.\n",
    "class ArbolDBFS(Arbol):\n",
    "\n",
    "    def recorrer(self):\n",
    "        \"\"\"\n",
    "        Completar aquí.\n",
    "        ¡Puedes modificar el recorrer original del BFS!\n",
    "        \"\"\"\n",
    "        pass\n",
    "\n",
    "    def recorrer_con_profundidad(self, profundidad_max):\n",
    "        \"\"\"\n",
    "        Completar aquí.\n",
    "        Aprovecha el algoritmo anterior y haz la modificaciones necesarias.\n",
    "        \"\"\"\n",
    "        pass"
   ]
  },
  {
   "cell_type": "code",
   "execution_count": null,
   "metadata": {},
   "outputs": [],
   "source": [
    "T = ArbolDBFS(0, 10, 2)\n",
    "T.agregar_nodo(1, 8, 0)\n",
    "T.agregar_nodo(3, 12, 0)\n",
    "T.agregar_nodo(2, 9, 1)\n",
    "T.agregar_nodo(4, 5, 3)\n",
    "T.agregar_nodo(5, 14, 3)\n",
    "T.agregar_nodo(6, 20, 3)\n",
    "T.agregar_nodo(8, 4, 2)\n",
    "T.agregar_nodo(7, 8, 4)\n",
    "T.agregar_nodo(9, 15, 6)\n",
    "T.agregar_nodo(10, 6, 6)"
   ]
  }
 ],
 "metadata": {
  "kernelspec": {
   "display_name": "Python 3 (ipykernel)",
   "language": "python",
   "name": "python3"
  },
  "language_info": {
   "codemirror_mode": {
    "name": "ipython",
    "version": 3
   },
   "file_extension": ".py",
   "mimetype": "text/x-python",
   "name": "python",
   "nbconvert_exporter": "python",
   "pygments_lexer": "ipython3",
   "version": "3.10.10"
  }
 },
 "nbformat": 4,
 "nbformat_minor": 4
}
