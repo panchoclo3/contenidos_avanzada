{
 "cells": [
  {
   "cell_type": "markdown",
   "metadata": {},
   "source": [
    "<p>\n",
    "<font size='5' face='Georgia, Arial'>IIC-2233 Apunte Programación Avanzada</font><br>\n",
    "<font size='1'> Ejercicios creados a partir de 2019-2 por Equipo Docente IIC2233. </font>\n",
    "<font size='1'> Actualizados el 2023-2.</font>\n",
    "</p>\n",
    "\n",
    "\n",
    "# Ejercicios propuestos: Estructuras Nodales\n",
    "## Operaciones básicas"
   ]
  },
  {
   "cell_type": "markdown",
   "metadata": {},
   "source": [
    "Los siguientes problemas se proveen como oportunidad de ejercitar los conceptos revisados en el material de **estructuras nodales**. Si tienes dudas sobre algún problema o alguna solución, no dudes en dejar una *issue* en el [foro del curso](https://github.com/IIC2233/syllabus/issues)."
   ]
  },
  {
   "cell_type": "markdown",
   "metadata": {},
   "source": [
    "### Ejercicio 1: Operaciones básicas en representación nodal"
   ]
  },
  {
   "cell_type": "markdown",
   "metadata": {},
   "source": [
    "Se entrega la siguiente lista de tuplas que representa las conexiones entre los nodos de un grafo. Donde la tupla se lee cómo: el primer valor tiene una conexion con el segundo valor. Es decir, `(x, y)` es equivalente a la conexión `x -> y`."
   ]
  },
  {
   "cell_type": "code",
   "execution_count": 1,
   "metadata": {},
   "outputs": [],
   "source": [
    "conexiones = [(1, 2), (2, 3), (3, 2), (3, 4), (3, 5), (4, 5), (1, 6), (2, 7), (7, 10), (7, 11), (6, 8), (6, 9)]"
   ]
  },
  {
   "cell_type": "markdown",
   "metadata": {},
   "source": [
    "Transforma el grafo anterior a su representación nodal utilizando clases para tanto nodos como el grafo completo. Al tratarse de representación **nodal**, la clase `Nodo` es quien maneja las conexiones a los vecinos respectivos. Se te entrega la implementación de `Nodo` del material. Por otro lado, la clase `Grafo` almanecena los nodos y los manipula, **y la debes completar**. \n",
    "\n",
    "Tu implementación debe tener: \n",
    "- un método `crear_nodo(valor)` el cual crea una instancia de la clase `Nodo` con su valor respectivo;\n",
    "- un método `agregar_conexion(valor_origen, valor_destino)` que crea en el nodo cuyo valor es `valor_origen` una conexion hacia el nodo cuyo valor es `valor_destino` en el grafo, y en caso de que alguno de los nodos asociados a `valor_origen` o `valor_destino` no existan previamente en el grafo, los debe crear y agregar;\n",
    "- y un método `imprimir_grafo()` que imprime al grafo con sus respectivas conexiones."
   ]
  },
  {
   "cell_type": "code",
   "execution_count": 85,
   "metadata": {},
   "outputs": [
    {
     "name": "stdout",
     "output_type": "stream",
     "text": [
      "[1] -> [6]\n",
      "[2] -> [7]\n",
      "[3] -> [4], [5]\n",
      "[4]\n",
      "[7] -> [11]\n",
      "[6] -> [9]\n"
     ]
    }
   ],
   "source": [
    "class Nodo:\n",
    "    \n",
    "    def __init__(self, valor):\n",
    "        self.valor = valor\n",
    "        self.conexiones = []\n",
    "        \n",
    "    def agregar_conexion(self, nodo):\n",
    "        self.conexiones.append(nodo)\n",
    "        \n",
    "    def __repr__(self):\n",
    "        texto = f\"[{self.valor}]\"\n",
    "        if len(self.conexiones) > 0:\n",
    "            textos_conexiones = [f\"[{conexion.valor}]\" for conexion in self.conexiones]\n",
    "            texto += \" -> \" + \", \".join(textos_conexiones)\n",
    "        return texto\n",
    "\n",
    "\n",
    "class Grafo:\n",
    "\n",
    "    def __init__(self):\n",
    "        self.lista_abyacencia = {}\n",
    "\n",
    "    def crear_nodo(self, valor):\n",
    "        return Nodo(valor)\n",
    "\n",
    "    def agregar_conexion(self, valor_origen, valor_destino):\n",
    "        if valor_origen in self.lista_abyacencia:\n",
    "            self.lista_abyacencia[valor_origen].agregar_conexion(self.crear_nodo(valor_destino))\n",
    "        else:\n",
    "            self.lista_abyacencia[valor_origen] = self.crear_nodo(valor_origen)\n",
    "\n",
    "        \n",
    "    def imprimir_grafo(self):\n",
    "        for key, values in self.lista_abyacencia.items():\n",
    "            print(values)\n",
    "    \n",
    "            \n",
    "grafo = Grafo()\n",
    "\n",
    "for conexion in conexiones:\n",
    "    origen, destino = conexion\n",
    "    grafo.agregar_conexion(origen, destino)\n",
    "\n",
    "\n",
    "grafo.imprimir_grafo()"
   ]
  },
  {
   "cell_type": "markdown",
   "metadata": {},
   "source": [
    "### Ejercicio 2: Operaciones básicas en matriz de adyacencia"
   ]
  },
  {
   "cell_type": "markdown",
   "metadata": {},
   "source": [
    "En este ejercicio podrás practicar cómo implementar las operaciones básicas sobre un grafo dirigido en base a una **matriz de adyacencia**.\n",
    "\n",
    "Debes implementar una clase `Grafo` que utiliza como representación interna una matriz de adyacencia (como lista de listas). El constructor de instancia de `Grafo` define inicialmente la matriz vacía como único atributo interno.\n",
    "\n",
    "Debes completar cada una de sus operaciones, pero adapatando cada uno al caso de contar una matriz como representación. Sólo deberás implementar las operaciones en base a la matriz de adyacencia, por lo que no habrán más clases implementadas. \n",
    "En cada método de la clase `Grafo` que requiere de algún argumento, este argumento representa un índice válido de nodo en la matriz. Por ejemplo, si se llama a `grafo.vecinos(2)`, el argumento hace referencia al \"nodo 2\" que corresponde a la fila 2 y la columna 2 de la matriz. Como los índices comienzan en 0, los nodos también comenzarán del 0."
   ]
  },
  {
   "cell_type": "markdown",
   "metadata": {},
   "source": [
    "Específicamente, cada método debe:\n",
    "\n",
    "- `agregar_vertice`: Debe agregar `0` al final de cada lista existente en la matriz, y una también agregar una última lista que solo contenga `0`s. Finalmente retorna `None`.\n",
    "- `agregar_arista(x, y)`: Debe colocar el valor `1` en la posición correspondiente a la matriz que representa una conexión de `x` hacia `y`. Finalmente retorna `None`.\n",
    "- `remover_vertice(x)`: Debe eliminar la lista correspondiente al nodo `x` de la matriz y los valores correspondientes a este nodo de las demás listas. Retorna `None`.\n",
    "- `remover_arista(x, y)`: Debe colocar el valor `0` en la posición correspondiente a la matriz que representa una conexión de `x` hacia `y`. Retorna `None`.\n",
    "- `adyacentes(x,y)`: Retorna `True` si existe la arista entre `x` e `y`.\n",
    "- `vecinos(x)`: Retorna una lista con índices correspondientes a los nodos vecinos de `x`."
   ]
  },
  {
   "cell_type": "code",
   "execution_count": 79,
   "metadata": {},
   "outputs": [
    {
     "name": "stdout",
     "output_type": "stream",
     "text": [
      "Chequeos:\n",
      "Matriz inicial coincide :)\n",
      "Existe adyacencia entre nodo 0 y nodo 1\n",
      "Los vecinos del nodo 2 son: 0, 1\n",
      "Se agregó un vértice correctamente :)\n",
      "Se removió el vértice 1 correctamente :)\n",
      "Se agregó una arista entre el vértice 2 y el vértice 4 correctamente :)\n",
      "Se eliminó una arista entre el vértice 1 y 2 correctamente :)\n"
     ]
    }
   ],
   "source": [
    "class Grafo:\n",
    "\n",
    "    def __init__(self):\n",
    "        self.matriz = []\n",
    "        self.lista_abyacencia = dict()\n",
    "\n",
    "    def agregar_vertice(self):\n",
    "        largo = len(self.matriz)\n",
    "        for i in range(largo):\n",
    "            self.matriz[i].append(0)\n",
    "        if largo == 0:\n",
    "            self.matriz.append([0])\n",
    "        else:\n",
    "            self.matriz.append([0 for _ in range(largo + 1)])\n",
    "\n",
    "\n",
    "    def agregar_arista(self, x, y):\n",
    "        self.matriz[x][y] = 1\n",
    "        if x in self.lista_abyacencia:\n",
    "            self.lista_abyacencia[x].append(y)\n",
    "        else:\n",
    "            self.lista_abyacencia[x] = [y]\n",
    "        return None\n",
    "\n",
    "    def remover_vertice(self, x):\n",
    "        self.lista_abyacencia.pop(x)\n",
    "        self.matriz.pop(x)\n",
    "        for key, value in self.lista_abyacencia.items():\n",
    "            if x in value:\n",
    "                value.pop(x)\n",
    "        for lista in self.matriz:\n",
    "            lista.pop(x)\n",
    "    \n",
    "    def remover_arista(self, x, y):\n",
    "        vecinos_x = self.lista_abyacencia.get(x)\n",
    "        if y in vecinos_x:\n",
    "            vecinos_x.remove(y)\n",
    "        self.matriz[x][y] = 0\n",
    "    \n",
    "    def adyacentes(self, x, y):\n",
    "        return y in self.lista_abyacencia[x]\n",
    "\n",
    "    def vecinos(self, x):\n",
    "        return self.lista_abyacencia[x]\n",
    "\n",
    "    def __repr__(self) -> str:\n",
    "        for lista in self.matriz:\n",
    "            print(lista)\n",
    "\n",
    "\n",
    "if __name__ == \"__main__\":\n",
    "\n",
    "    grafo = Grafo()\n",
    "    \n",
    "    for _ in range(4):\n",
    "        grafo.agregar_vertice()\n",
    "    \n",
    "    grafo.agregar_arista(0, 1)\n",
    "    grafo.agregar_arista(0, 2)\n",
    "    grafo.agregar_arista(1, 0)\n",
    "    grafo.agregar_arista(1, 3)\n",
    "    grafo.agregar_arista(2, 0)\n",
    "    grafo.agregar_arista(2, 1)\n",
    "    grafo.agregar_arista(3, 2)\n",
    "\n",
    "    print(\"Chequeos:\")\n",
    "    \n",
    "    if grafo.matriz == [[0, 1, 1, 0], [1, 0, 0, 1], [1, 1, 0, 0], [0, 0, 1, 0]]:\n",
    "        print(\"Matriz inicial coincide :)\")\n",
    "    \n",
    "    if grafo.adyacentes(0, 1):\n",
    "        print(\"Existe adyacencia entre nodo 0 y nodo 1\")\n",
    "    \n",
    "    if grafo.vecinos(2) == [0, 1]:\n",
    "        lista = grafo.vecinos(2)\n",
    "        print(f\"Los vecinos del nodo 2 son: {lista[0]}, {lista[1]}\")\n",
    "    \n",
    "    grafo.agregar_vertice()\n",
    "    if grafo.matriz == [[0, 1, 1, 0, 0], [1, 0, 0, 1, 0], [1, 1, 0, 0, 0], [0, 0, 1, 0, 0], [0, 0, 0, 0, 0]]:\n",
    "        print(\"Se agregó un vértice correctamente :)\")\n",
    "    \n",
    "    grafo.remover_vertice(1)\n",
    "    if grafo.matriz == [[0, 1, 0, 0], [1, 0, 0, 0], [0, 1, 0, 0], [0, 0, 0, 0]]:\n",
    "        print(\"Se removió el vértice 1 correctamente :)\")\n",
    "    \n",
    "    grafo.agregar_arista(3, 1)\n",
    "    if grafo.matriz == [[0, 1, 0, 0], [1, 0, 0, 0], [0, 1, 0, 0], [0, 1, 0, 0]]:\n",
    "        print(\"Se agregó una arista entre el vértice 2 y el vértice 4 correctamente :)\")\n",
    "    \n",
    "    grafo.remover_arista(0, 1)\n",
    "    if grafo.matriz == [[0, 0, 0, 0], [1, 0, 0, 0], [0, 1, 0, 0], [0, 1, 0, 0]]:\n",
    "        print(\"Se eliminó una arista entre el vértice 1 y 2 correctamente :)\")"
   ]
  }
 ],
 "metadata": {
  "kernelspec": {
   "display_name": "Python 3 (ipykernel)",
   "language": "python",
   "name": "python3"
  },
  "language_info": {
   "codemirror_mode": {
    "name": "ipython",
    "version": 3
   },
   "file_extension": ".py",
   "mimetype": "text/x-python",
   "name": "python",
   "nbconvert_exporter": "python",
   "pygments_lexer": "ipython3",
   "version": "3.11.5"
  }
 },
 "nbformat": 4,
 "nbformat_minor": 2
}
