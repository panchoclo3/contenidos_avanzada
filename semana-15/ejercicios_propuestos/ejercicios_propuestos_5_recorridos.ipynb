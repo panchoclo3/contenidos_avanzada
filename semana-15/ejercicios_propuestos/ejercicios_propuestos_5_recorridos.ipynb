{
 "cells": [
  {
   "cell_type": "markdown",
   "metadata": {},
   "source": [
    "<p>\n",
    "<font size='5' face='Georgia, Arial'>IIC-2233 Apunte Programación Avanzada</font><br>\n",
    "<font size='1'> Ejercicios creados a partir de 2019-2 por Equipo Docente IIC2233. </font>\n",
    "<font size='1'> Actualizados el 2023-2.</font>\n",
    "</p>\n",
    "\n",
    "\n",
    "# Ejercicios propuestos: Estructuras Nodales\n",
    "## Recorridos"
   ]
  },
  {
   "cell_type": "markdown",
   "metadata": {},
   "source": [
    "Los siguientes problemas se proveen como oportunidad de ejercitar los conceptos revisados en el material de **estructuras nodales**. Si tienes dudas sobre algún problema o alguna solución, no dudes en dejar una *issue* en el [foro del curso](https://github.com/IIC2233/syllabus/issues)."
   ]
  },
  {
   "cell_type": "markdown",
   "metadata": {},
   "source": [
    "### Ejercicio 1: Implementando recorrido"
   ]
  },
  {
   "cell_type": "markdown",
   "metadata": {},
   "source": [
    "Crea una clase `Grafo`, que utilice cualquier tipo de representación interna que quieras, que implemente los métodos: \n",
    "- `recorrer_bfs(self)` para recorrer el grafo usando BFS desde un nodo cualquiera y que retorna una lista con los nodos visitados en orden.\n",
    "- `recorrer_dfs(self)` para recorrer el grafo usando DFS desde un nodo cualquiera y que retorna una lista con los nodos visitados en orden.\n",
    "\n",
    "Puedes utilizar de base una clase `Grafo` resultado de un ejercicio anterior. Para poblar y probar tu solución puedes utilizar la lista de tuplas `conexiones`, que representan conexiones entre nodos."
   ]
  },
  {
   "cell_type": "code",
   "execution_count": 23,
   "metadata": {},
   "outputs": [
    {
     "name": "stdout",
     "output_type": "stream",
     "text": [
      "[1, 2, 6, 3, 7, 8, 9, 4, 5, 10, 11]\n",
      "[1, 6, 9, 8, 2, 7, 11, 10, 3, 5, 4]\n"
     ]
    }
   ],
   "source": [
    "from collections import deque\n",
    "from random import randint\n",
    "\n",
    "class Grafo:\n",
    "    def __init__(self):\n",
    "        self.lista_abyacencia = {i : set() for i in range(1, 12)}\n",
    "\n",
    "    def agregar_arista(self, x, y):\n",
    "        self.lista_abyacencia[x].add(y)\n",
    "        return None\n",
    "\n",
    "    def __repr__(self) -> str:\n",
    "        for nodo in self.lista_abyacencia:\n",
    "            print(f\"{nodo} -> {self.lista_abyacencia[nodo]}\")\n",
    "        return None\n",
    "    \n",
    "    def recorrer_bfs(self):\n",
    "        visitados = []\n",
    "        inicio = 1\n",
    "        cola = deque([inicio])\n",
    "        \n",
    "        while len(cola) > 0:\n",
    "            vertice = cola.popleft()\n",
    "\n",
    "            if vertice in visitados:\n",
    "                continue\n",
    "            \n",
    "            visitados.append(vertice)\n",
    "\n",
    "            for vecino in self.lista_abyacencia[vertice]:\n",
    "                if vecino not in visitados:\n",
    "                    cola.append(vecino)\n",
    "        \n",
    "        return visitados\n",
    "        \n",
    "    \n",
    "    def recorrer_dfs(self):\n",
    "        visitados = []\n",
    "        inicio = 1\n",
    "        cola = deque([inicio])\n",
    "\n",
    "        while len(cola) > 0:\n",
    "            vertice = cola.pop()\n",
    "\n",
    "            if vertice in visitados:\n",
    "                continue\n",
    "\n",
    "            visitados.append(vertice)\n",
    "\n",
    "            for vecino in self.lista_abyacencia[vertice]:\n",
    "                if vecino not in visitados:\n",
    "                    cola.append(vecino)\n",
    "\n",
    "        return visitados\n",
    "\n",
    "\n",
    "conexiones = [(1, 2), (2, 3), (3, 2), (3, 4), (3, 5), (4, 5), (1, 6), (2, 7), (7, 10), (7, 11), (6, 8), (6, 9)]\n",
    "grafo = Grafo()\n",
    "\n",
    "# Poblar grafo dependiendo de implementación\n",
    "for actual, conexion in conexiones:\n",
    "    grafo.agregar_arista(actual, conexion)\n",
    "\n",
    "print(grafo.recorrer_bfs())\n",
    "print(grafo.recorrer_dfs())"
   ]
  },
  {
   "cell_type": "markdown",
   "metadata": {},
   "source": [
    "### Ejercicio 2: Encontrar camino"
   ]
  },
  {
   "cell_type": "markdown",
   "metadata": {},
   "source": [
    "Crea una clase `Grafo`, que utilice cualquier tipo de representación interna que quieras, que implemente el método `existe_camino(self, valor_origen, valor_destino)` que retorne `True` si existe el camino de cualquier largo entre el nodo cuyo valor es `valor_origen` al nodo cuyo valor es `valor_destino`, `False` en el caso contrario.\n",
    "\n",
    "Puedes utilizar de base una clase `Grafo` resultado de un ejercicio anterior, e incluso hacer una solución recursiva.  Para poblar y probar tu solución puedes utilizar la lista de tuplas `conexiones`, que representan conexiones entre nodos."
   ]
  },
  {
   "cell_type": "code",
   "execution_count": 34,
   "metadata": {},
   "outputs": [
    {
     "name": "stdout",
     "output_type": "stream",
     "text": [
      "(3, 2, 4, 5)\n",
      "(1, 2, 6, 8, 9, 3, 7)\n"
     ]
    }
   ],
   "source": [
    "class Grafo:\n",
    "    \n",
    "    def __init__(self):\n",
    "        self.lista_abyacencia = {i: set() for i in range(1, 12)}\n",
    "\n",
    "    def agregar_arista(self, x, y):\n",
    "        self.lista_abyacencia[x].add(y)\n",
    "        return None\n",
    "\n",
    "    def __repr__(self) -> str:\n",
    "        for nodo in self.lista_abyacencia:\n",
    "            print(f\"{nodo} -> {self.lista_abyacencia[nodo]}\")\n",
    "        return ''\n",
    "    \n",
    "    def existe_camino(self, valor_origen, valor_destino):\n",
    "        visitados = []\n",
    "        cola = deque([valor_origen])\n",
    "        camino_recorrido = ((valor_origen),)\n",
    "    \n",
    "        while len(cola) > 0:\n",
    "            vertice = cola.pop()\n",
    "\n",
    "            if vertice == valor_destino:\n",
    "                return camino_recorrido\n",
    "\n",
    "\n",
    "            for vecino in self.lista_abyacencia[vertice]:\n",
    "                if vecino not in visitados:\n",
    "                    visitados.append(vertice)\n",
    "                    cola.append(vecino)\n",
    "                    camino_recorrido += (vecino,)\n",
    "        return ()\n",
    "\n",
    "conexiones = [(1, 2), (2, 3), (3, 2), (3, 4), (3, 5), (4, 5), (1, 6), (2, 7), (7, 10), (7, 11), (6, 8), (6, 9)]\n",
    "grafo = Grafo()\n",
    "\n",
    "# Poblar grafo dependiendo de implementación\n",
    "for actual, conexion in conexiones:\n",
    "    grafo.agregar_arista(actual, conexion)\n",
    "\n",
    "print(grafo.existe_camino(3, 5))\n",
    "print(grafo.existe_camino(1, 7))"
   ]
  },
  {
   "cell_type": "markdown",
   "metadata": {},
   "source": [
    "### Ejercico 3: Encontrar distancia"
   ]
  },
  {
   "cell_type": "markdown",
   "metadata": {},
   "source": [
    "Crea una clase `Grafo`, que utilice cualquier tipo de representación interna que quieras, que implemente el método `distancia_entre(self, valor_origen, valor_destino)` que retorne un `int` con la distancia entre los nodos origen (cuyo valor es `valor_origen`) y destino (cuyo valor es `valor_destino`).\n",
    "\n",
    "Asume que cada conexión directa en el grafo es de distancia 1, por lo tanto: la distancia desde un nodo hasta el mismo nodo es 0, la distancia entre un nodo y uno de sus vecinos es 1, la distancia entre un nodo y alguno de los vecinos de sus vecinos es 2 (a menos de que también sea vecino suyo o si mismo), etc...\n",
    "\n",
    "Puedes utilizar de base una clase `Grafo` resultado de un ejercicio anterior. Puedes usar el código de uno de los algoritmos de navegación y alterarlo para lograr el objetivo, pero uno puede que te sirva más que el otro. **¿Cuál?**\n",
    "\n",
    " Para poblar y probar tu solución puedes utilizar la lista de tuplas `conexiones`, que representan conexiones entre nodos."
   ]
  },
  {
   "cell_type": "code",
   "execution_count": 40,
   "metadata": {},
   "outputs": [
    {
     "name": "stdout",
     "output_type": "stream",
     "text": [
      "8\n"
     ]
    }
   ],
   "source": [
    "class Grafo:\n",
    "    \n",
    "    def __init__(self):\n",
    "        self.lista_abyacencia = {i: set() for i in range(1, 12)}\n",
    "\n",
    "    def agregar_arista(self, x, y):\n",
    "        self.lista_abyacencia[x].add(y)\n",
    "        return None\n",
    "\n",
    "    def __repr__(self) -> str:\n",
    "        for nodo in self.lista_abyacencia:\n",
    "            print(f\"{nodo} -> {self.lista_abyacencia[nodo]}\")\n",
    "        return ''\n",
    "    \n",
    "    def distancia_entre(self, valor_origen, valor_destino):\n",
    "        visitados = []\n",
    "        cola = deque([valor_origen])\n",
    "        distancia = 0\n",
    "        \n",
    "        while len(cola) > 0:\n",
    "            vertice = cola.pop()\n",
    "\n",
    "            if vertice == valor_destino:\n",
    "                return distancia\n",
    "            \n",
    "\n",
    "            for vecino in self.lista_abyacencia[vertice]:\n",
    "\n",
    "                if vecino not in visitados:\n",
    "                    visitados.append(vertice)\n",
    "                    cola.append(vecino)\n",
    "                    distancia += 1\n",
    "    \n",
    "        return 'No existe camino entre los dos puntos'\n",
    "\n",
    "\n",
    "conexiones = [(1, 2), (2, 3), (3, 2), (3, 4), (3, 5), (4, 5), (1, 6), (2, 7), (7, 10), (7, 11), (6, 8), (6, 9)]\n",
    "grafo = Grafo()\n",
    "\n",
    "# Poblar grafo dependiendo de implementación\n",
    "for actual, conexion in conexiones:\n",
    "    grafo.agregar_arista(actual, conexion)\n",
    "\n",
    "print(grafo.distancia_entre(1, 11))"
   ]
  },
  {
   "cell_type": "markdown",
   "metadata": {},
   "source": [
    "### Ejercicio 4: Encontrar ciclos"
   ]
  },
  {
   "cell_type": "markdown",
   "metadata": {},
   "source": [
    "Crea una clase `Grafo`, que utilice cualquier tipo de representación interna que quieras, que implemente el método `existe_ciclo(self)` que retorne `True` si existe un ciclo en el grafo, y `False` en caso contrario. Considera ciclo como que **existe si hay más de una forma de llegar a un nodo mediante navegación**.\n",
    "\n",
    "Puedes utilizar de base una clase `Grafo` resultado de un ejercicio anterior, e incluso hacer una solución recursiva.  Para poblar y probar tu solución puedes utilizar la lista de tuplas `conexiones`, que representan conexiones entre nodos."
   ]
  },
  {
   "cell_type": "code",
   "execution_count": null,
   "metadata": {},
   "outputs": [],
   "source": [
    "class Grafo:\n",
    "    \n",
    "    # Puede contener la representación y métodos que estimes convenientes.\n",
    "    \n",
    "    def existe_ciclo(self):\n",
    "        pass\n",
    "\n",
    "\n",
    "conexiones = [(1, 2), (2, 3), (3, 2), (3, 4), (3, 5), (4, 5), (1, 6), (2, 7), (7, 10), (7, 11), (6, 8), (6, 9)]\n",
    "grafo = Grafo()\n",
    "\n",
    "# Poblar grafo dependiendo de implementación\n",
    "\n",
    "print(grafo.existe_ciclo())"
   ]
  },
  {
   "cell_type": "markdown",
   "metadata": {},
   "source": [
    "### Ejercicio 5: Emprendimiento"
   ]
  },
  {
   "cell_type": "markdown",
   "metadata": {},
   "source": [
    "En medio de la propagación de una pandemia provocada por un virus altamente contagioso, decides iniciar un emprendimiento del producto más solicitado del momento: papel higienico. Para tu emprendimiento decides repartir a domicilio paquetes con diferente cantidad de rollos de papel y diferentes marcas.\n",
    "\n",
    "Las opciones de paquetes a enviar son las siguientes:\n",
    "\n",
    "1. Cuatro rollos de marca1\n",
    "2. Dos rollos de marca1\n",
    "3. Cuatro rollos de marca2\n",
    "4. Dos rollos de marca2\n",
    "\n",
    "Además, debido a la alta demanda, ya tienes seis encargos de paquetes. Cada encargo es de un sólo paquete. Además, cada encargo tiene direcciones diferentes y algunas de ellas están conectadas entre sí. Por esta razón, es posible modelar los encargos como un grafo. \n",
    "\n",
    "Para entregar los productos decides llevar exactamente la cantidad de productos que te pidieron. Esto quiere decir que si te pidieron tres tipos del paquete 1 y tres del paquete 2, entonces posees exactamente esa cantidad de productos. Debido a tu *stock* al momento de repartir, deberás comparar los productos que el cliente pidió con los productos que tienes a tu disposición, de manera que cada producto debe ser exactamente el que encargó el cliente."
   ]
  },
  {
   "cell_type": "markdown",
   "metadata": {},
   "source": [
    "Tu trabajo será modelar el problema con nodos para  cumplir con los todos los encargos. Afortunadamente, parte del código para esto ya está hecho:\n",
    "\n",
    "1. La clase `Producto`, representa los productos que llevas en el reparto. Sus atributos representan la candidad de rollos y la marca del producto. \n",
    "\n",
    "2. La clase `Encargo` está parcialmente implementada y debes completarla. Esta clase representa un encargo que hicieron de tus productos. El encargo tiene como atributos `eid` (*id* del encargo), `rollos`, `marca` y `estado`. Además de la lista `vecinos`, que contiene cada instancia de **otros** encargos cuyas direcciones son cercanas y funcionan como vecinos. Para completar esta clase debes completar el siguiente método:\n",
    "    - `aceptar_encargo`: Recibe una instancia de `Producto`. Este método revisa si los atributos de la instancia tienen el mismo valor que los atributos del encargo. Cambia el atributo estado a `\"Entregado\"` y retorna `True` si cumple con lo que desea. Retorna `False` si no cumple y tampoco cambia el atributo estado.\n",
    "\n",
    "3. Función `bfs`. No está implementada. Debes adaptar el algoritmo BFS para realizar todos los repartos. La función recibe un encargo de inicio y la lista de productos que llevas para el reparto. A partir del primer nodo de inicio debes hacer lo siguiente:\n",
    "    - Mientras visitas cada encargo, debes iterar sobre la lista de productos y usar la función `aceptar_encargo` de la instancia `Encargo` correspondiente. Si la función retorna `True`, es porque el producto corresponde al producto del encargo, por lo que debes eliminar el producto correspondiente de la lista y después ir al siguiente encargo (el siguiente producto que estará en la lista de vecinos de encargo)."
   ]
  },
  {
   "cell_type": "code",
   "execution_count": null,
   "metadata": {},
   "outputs": [],
   "source": [
    "class Producto:\n",
    "\n",
    "    def __init__(self, rollos, marca):\n",
    "        self.rollos = rollos\n",
    "        self.marca = marca\n",
    "\n",
    "\n",
    "class Encargo:\n",
    "\n",
    "    def __init__(self, eid, rollos, marca):\n",
    "        self.eid = eid\n",
    "        self.rollos = rollos\n",
    "        self.marca = marca\n",
    "        self.estado = \"Esperando\"\n",
    "        self.vecinos = []\n",
    "\n",
    "    def agregar_vecino(self, encargo):\n",
    "        self.vecinos.append(encargo)\n",
    "    \n",
    "    def __repr__(self):\n",
    "        return f\"Encargo {self.eid} - N° rollos: {self.rollos} - Marca: {self.marca} - Estado actual: {self.estado}\"\n",
    "        \n",
    "    def aceptar_encargo(self, producto):\n",
    "        # Completar\n",
    "        pass\n",
    "\n",
    "\n",
    "def bfs(inicio, lista_productos):\n",
    "    # Completar\n",
    "    \n",
    "    \n",
    "    # Completar\n",
    "    pass\n",
    "\n",
    "\n",
    "if __name__ == \"__main__\":\n",
    "    \n",
    "    lista_productos = [\n",
    "        Producto(\"2\", \"Marca1\"), Producto(\"4\", \"Marca1\"),\n",
    "        Producto(\"4\", \"Marca1\"), Producto(\"2\", \"Marca2\"), \n",
    "        Producto(\"2\", \"Marca2\"), Producto(\"4\", \"Marca2\")\n",
    "    ]\n",
    "\n",
    "    encargos = [\n",
    "        Encargo(\"1\", \"2\", \"Marca1\"),\n",
    "        Encargo(\"2\", \"4\", \"Marca1\"), \n",
    "        Encargo(\"3\", \"2\", \"Marca2\"),\n",
    "        Encargo(\"4\", \"4\", \"Marca2\"),\n",
    "        Encargo(\"5\", \"4\", \"Marca1\"),\n",
    "        Encargo(\"6\", \"2\", \"Marca2\")\n",
    "    ]\n",
    "\n",
    "    encargos[0].agregar_vecino(encargos[1])\n",
    "    encargos[1].agregar_vecino(encargos[2])\n",
    "    encargos[2].agregar_vecino(encargos[3])\n",
    "    encargos[3].agregar_vecino(encargos[4])\n",
    "    encargos[4].agregar_vecino(encargos[5])\n",
    "\n",
    "    bfs(encargos[0], lista_productos)\n",
    "\n",
    "    print(\"El estado de los encargos después de BFS es:\")\n",
    "\n",
    "    if len(lista_productos) > 0:\n",
    "        print(\"Todavía quedan productos en la lista.\")\n",
    "    else:\n",
    "        print(\"¡Repartiste TODO!\")\n",
    "    for _ in encargos:\n",
    "        print(_)"
   ]
  }
 ],
 "metadata": {
  "kernelspec": {
   "display_name": "Python 3 (ipykernel)",
   "language": "python",
   "name": "python3"
  },
  "language_info": {
   "codemirror_mode": {
    "name": "ipython",
    "version": 3
   },
   "file_extension": ".py",
   "mimetype": "text/x-python",
   "name": "python",
   "nbconvert_exporter": "python",
   "pygments_lexer": "ipython3",
   "version": "3.11.5"
  }
 },
 "nbformat": 4,
 "nbformat_minor": 2
}
