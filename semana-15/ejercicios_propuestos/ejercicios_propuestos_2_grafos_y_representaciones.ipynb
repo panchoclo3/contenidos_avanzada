{
 "cells": [
  {
   "cell_type": "markdown",
   "metadata": {},
   "source": [
    "<p>\n",
    "<font size='5' face='Georgia, Arial'>IIC-2233 Apunte Programación Avanzada</font><br>\n",
    "<font size='1'> Ejercicios creados a partir de 2019-2 por Equipo Docente IIC2233. </font>\n",
    "<font size='1'> Actualizados el 2023-2.</font>\n",
    "</p>\n",
    "\n",
    "\n",
    "# Ejercicios propuestos: Estructuras Nodales\n",
    "## Grafos y representaciones"
   ]
  },
  {
   "cell_type": "markdown",
   "metadata": {},
   "source": [
    "Los siguientes problemas se proveen como oportunidad de ejercitar los conceptos revisados en el material de **estructuras nodales**. Si tienes dudas sobre algún problema o alguna solución, no dudes en dejar una *issue* en el [foro del curso](https://github.com/IIC2233/syllabus/issues)."
   ]
  },
  {
   "cell_type": "markdown",
   "metadata": {},
   "source": [
    "### Ejercicio 1: Convertir a listas de adyacencia"
   ]
  },
  {
   "cell_type": "markdown",
   "metadata": {},
   "source": [
    "Se entrega la siguiente lista de tuplas que representa las conexiones entre los nodos de un grafo. Donde la tupla se lee cómo: el primer valor tiene una conexion con el segundo valor. Es decir, `(x, y)` es equivalente a la conexión `x -> y`."
   ]
  },
  {
   "cell_type": "code",
   "execution_count": 1,
   "metadata": {},
   "outputs": [],
   "source": [
    "conexiones = [(1, 2), (2, 3), (3, 2), (3, 4), (3, 5), (4, 5), (1, 6), (2, 7), (7, 10), (7, 11), (6, 8), (6, 9)]"
   ]
  },
  {
   "cell_type": "markdown",
   "metadata": {},
   "source": [
    "Transforma el grafo anterior a su representación de listas de adyacencia. Específicamente, como un diccionario en donde cada llave del diccionario es el valor de un nodo, y el valor asociado del diccionario, es una lista de adyacencia para el nodo ascodiado en la llave.\n",
    "\n",
    "Recuerda que a pesar de que un valor no tenga conexiones hacia otro valor, este sigue siendo un nodo en el grafo, por lo que debe tener una lista asociada en su representación de lista de adyacencia. En este caso, como no tiene conexiones salientes, la lista asociada terminará vacía."
   ]
  },
  {
   "cell_type": "code",
   "execution_count": 8,
   "metadata": {},
   "outputs": [
    {
     "name": "stdout",
     "output_type": "stream",
     "text": [
      "1 -> [2, 6]\n",
      "2 -> [3, 7]\n",
      "3 -> [2, 4, 5]\n",
      "4 -> [5]\n",
      "5 -> []\n",
      "6 -> [8, 9]\n",
      "7 -> [10, 11]\n",
      "8 -> []\n",
      "9 -> []\n",
      "10 -> []\n",
      "11 -> []\n"
     ]
    }
   ],
   "source": [
    "grafo = {}\n",
    "\n",
    "for i in range(1, 12):\n",
    "    grafo[i] = []\n",
    "\n",
    "for actual, conexion in conexiones:\n",
    "    grafo[actual].append(conexion)\n",
    "\n",
    "for nodo in grafo:\n",
    "    print(f\"{nodo} -> {grafo[nodo]}\")"
   ]
  },
  {
   "cell_type": "markdown",
   "metadata": {},
   "source": [
    "### Ejercicio 2: Convertir a representación nodal"
   ]
  },
  {
   "cell_type": "markdown",
   "metadata": {},
   "source": [
    "Se entrega la siguiente lista de tuplas que representa las conexiones entre los nodos de un grafo. Donde la tupla se lee cómo: el primer valor tiene una conexion con el segundo valor. Es decir, `(x, y)` es equivalente a la conexión `x -> y`."
   ]
  },
  {
   "cell_type": "code",
   "execution_count": null,
   "metadata": {},
   "outputs": [],
   "source": [
    "conexiones = [(1, 2), (2, 3), (3, 2), (3, 4), (3, 5), (4, 5), (1, 6), (2, 7), (7, 10), (7, 11), (6, 8), (6, 9)]"
   ]
  },
  {
   "cell_type": "markdown",
   "metadata": {},
   "source": [
    "Transforma el grafo anterior a su representación nodal utilizando la clase `Nodo` del material. Es decir, cada nodo debe tener su propia instancia de `Nodo` y agregarse entre si referencias a otras instancias. Un detalle importante a recordar es que por cada valor, debe haber una única instania de `Nodo`, ya que representan a la misma entidad. Si se crearan múltiples instancias para un mismo valor, entonces las referencias a sus conexiones no se almacenarían en la misma instancia.\n",
    "\n",
    "A continuación se deja la clase `Nodo` a utilizar, y una variable `nodos` que puede ser el contenedor que quieras (lista o diccionario, por ejemplo) que contenga las instancias de nodos."
   ]
  },
  {
   "cell_type": "code",
   "execution_count": 29,
   "metadata": {},
   "outputs": [
    {
     "name": "stdout",
     "output_type": "stream",
     "text": [
      "1 -> [1] -> [2], [6]\n",
      "2 -> [2] -> [3], [7]\n",
      "3 -> [3] -> [2], [4], [5]\n",
      "4 -> [4] -> [5]\n",
      "5 -> [5]\n",
      "6 -> [6] -> [8], [9]\n",
      "7 -> [7] -> [10], [11]\n",
      "8 -> [8]\n",
      "9 -> [9]\n",
      "10 -> [10]\n",
      "11 -> [11]\n"
     ]
    }
   ],
   "source": [
    "class Nodo:\n",
    "    \n",
    "    def __init__(self, valor):\n",
    "        self.valor = valor\n",
    "        self.conexiones = []\n",
    "        \n",
    "    def agregar_conexion(self, nodo):\n",
    "        self.conexiones.append(nodo)\n",
    "        \n",
    "    def __repr__(self):\n",
    "        texto = f\"[{self.valor}]\"\n",
    "        if len(self.conexiones) > 0:\n",
    "            textos_conexiones = [f\"[{conexion.valor}]\" for conexion in self.conexiones]\n",
    "            texto += \" -> \" + \", \".join(textos_conexiones)\n",
    "        return texto\n",
    "\n",
    "nodos = {}\n",
    "\n",
    "for i in range(1, 12):\n",
    "    nodos[i] = Nodo(i)\n",
    "\n",
    "for actual, conexion in conexiones:\n",
    "    nodos[actual].agregar_conexion(Nodo(conexion))\n",
    "\n",
    "for nodo in nodos:\n",
    "    print(f\"{nodo} -> {nodos[nodo]}\")\n"
   ]
  },
  {
   "cell_type": "markdown",
   "metadata": {},
   "source": [
    "### Ejercicio 3: Convertir a matriz de adyacencia"
   ]
  },
  {
   "cell_type": "markdown",
   "metadata": {},
   "source": [
    "Se entrega la siguiente lista de tuplas que representa las conexiones entre los nodos de un grafo. Donde la tupla se lee cómo: el primer valor tiene una conexion con el segundo valor. Es decir, `(x, y)` es equivalente a la conexión `x -> y`."
   ]
  },
  {
   "cell_type": "code",
   "execution_count": null,
   "metadata": {},
   "outputs": [],
   "source": [
    "conexiones = [(1, 2), (2, 3), (3, 2), (3, 4), (3, 5), (4, 5), (1, 6), (2, 7), (7, 10), (7, 11), (6, 8), (6, 9)]"
   ]
  },
  {
   "cell_type": "markdown",
   "metadata": {},
   "source": [
    "Transforma el grafo anterior a su representación  de matriz de adyacencia como una lista de listas."
   ]
  },
  {
   "cell_type": "code",
   "execution_count": 38,
   "metadata": {},
   "outputs": [
    {
     "name": "stdout",
     "output_type": "stream",
     "text": [
      "1 -> [0, 0, 0, 0, 0, 0, 0, 0, 0, 0, 0, 0]\n",
      "2 -> [0, 0, 1, 0, 0, 0, 1, 0, 0, 0, 0, 0]\n",
      "3 -> [0, 0, 0, 1, 0, 0, 0, 1, 0, 0, 0, 0]\n",
      "4 -> [0, 0, 1, 0, 1, 1, 0, 0, 0, 0, 0, 0]\n",
      "5 -> [0, 0, 0, 0, 0, 1, 0, 0, 0, 0, 0, 0]\n",
      "6 -> [0, 0, 0, 0, 0, 0, 0, 0, 0, 0, 0, 0]\n",
      "7 -> [0, 0, 0, 0, 0, 0, 0, 0, 1, 1, 0, 0]\n",
      "8 -> [0, 0, 0, 0, 0, 0, 0, 0, 0, 0, 1, 1]\n",
      "9 -> [0, 0, 0, 0, 0, 0, 0, 0, 0, 0, 0, 0]\n",
      "10 -> [0, 0, 0, 0, 0, 0, 0, 0, 0, 0, 0, 0]\n",
      "11 -> [0, 0, 0, 0, 0, 0, 0, 0, 0, 0, 0, 0]\n"
     ]
    }
   ],
   "source": [
    "# Completar\n",
    "\n",
    "matriz = []\n",
    "\n",
    "for _ in range(11):\n",
    "    matriz.append([0 for _ in range(12)])\n",
    "\n",
    "for actual, conexion in conexiones:\n",
    "    matriz[actual][conexion] = 1\n",
    "\n",
    "for index, value in enumerate(matriz):\n",
    "    print(f\"{index + 1} -> {value}\")"
   ]
  }
 ],
 "metadata": {
  "kernelspec": {
   "display_name": "Python 3 (ipykernel)",
   "language": "python",
   "name": "python3"
  },
  "language_info": {
   "codemirror_mode": {
    "name": "ipython",
    "version": 3
   },
   "file_extension": ".py",
   "mimetype": "text/x-python",
   "name": "python",
   "nbconvert_exporter": "python",
   "pygments_lexer": "ipython3",
   "version": "3.11.5"
  }
 },
 "nbformat": 4,
 "nbformat_minor": 2
}
