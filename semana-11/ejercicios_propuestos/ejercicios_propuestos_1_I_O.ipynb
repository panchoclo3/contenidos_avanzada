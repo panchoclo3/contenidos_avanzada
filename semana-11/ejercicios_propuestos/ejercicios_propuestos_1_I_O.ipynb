{
 "cells": [
  {
   "cell_type": "markdown",
   "metadata": {},
   "source": [
    "<p>\n",
    "<font size='5' face='Georgia, Arial'>IIC-2233 Apunte Programación Avanzada</font><br>\n",
    "<font size='1'> Actualizados el 2023-2.</font>\n",
    "</p>\n",
    "\n",
    "\n",
    "# Ejercicios propuestos: _Input/Output_\n",
    "## I/O de archivos"
   ]
  },
  {
   "cell_type": "markdown",
   "metadata": {},
   "source": [
    "Los siguientes problemas se proveen como oportunidad de ejercitar los conceptos revisados en el material de **I/O de archivos**. Si tienes dudas sobre algún problema o alguna solución, no dudes en dejar una *issue* en el [foro del curso](https://github.com/IIC2233/syllabus/issues)."
   ]
  },
  {
   "cell_type": "markdown",
   "metadata": {},
   "source": [
    "### Ejercicio 1: Usando distintos encodings"
   ]
  },
  {
   "cell_type": "markdown",
   "metadata": {},
   "source": [
    "Crea un archivo que contenga el siguiente texto:\n",
    "```\n",
    "¡Estoy emocionado por la fiesta de mañana! 🎉🥳 Voy a preparar mi famoso guacamole con 🥑, 🍅 y un toque secreto de 🌶️. Espero que todos se diviertan y que no llueva ☔️. ¡Nos vemos allí! 😄👋\n",
    "```\n",
    "\n",
    "Guarda el texto en un archivo y prueba abrirlo con los siguientes _encodings_: `utf-8`, `latin-1`, `ascii`. ¿El texto se mantiene o presenta cambios? ¿Se pudo abrir el archivo con todos los _encoding_ o presenta problemas con algunos de estos? ¿Pasará lo mismo con otros textos?\n"
   ]
  },
  {
   "cell_type": "code",
   "execution_count": 15,
   "metadata": {},
   "outputs": [],
   "source": [
    "texto = '¡Estoy emocionado por la fiesta de mañana! 🎉🥳 ' \\\n",
    "    'Voy a preparar mi famoso guacamole con 🥑, 🍅 y un toque secreto de 🌶️. ' \\\n",
    "    'Espero que todos se diviertan y que no llueva ☔️. ¡Nos vemos allí! 😄👋'"
   ]
  }
 ],
 "metadata": {
  "kernelspec": {
   "display_name": "Python 3",
   "language": "python",
   "name": "python3"
  },
  "language_info": {
   "codemirror_mode": {
    "name": "ipython",
    "version": 3
   },
   "file_extension": ".py",
   "mimetype": "text/x-python",
   "name": "python",
   "nbconvert_exporter": "python",
   "pygments_lexer": "ipython3",
   "version": "3.10.12"
  }
 },
 "nbformat": 4,
 "nbformat_minor": 2
}
