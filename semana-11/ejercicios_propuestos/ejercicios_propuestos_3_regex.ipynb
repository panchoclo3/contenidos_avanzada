{
 "cells": [
  {
   "cell_type": "markdown",
   "metadata": {},
   "source": [
    "<p>\n",
    "<font size='5' face='Georgia, Arial'>IIC-2233 Apunte Programación Avanzada</font><br>\n",
    "<font size='1'> Actualizados el 2023-2.</font>\n",
    "</p>\n",
    "\n",
    "\n",
    "# Ejercicios propuestos: _Regex_\n",
    "## _Regular Expressions_"
   ]
  },
  {
   "cell_type": "markdown",
   "metadata": {},
   "source": [
    "Los siguientes problemas se proveen como oportunidad de ejercitar los conceptos revisados en el material de **_Regex_**. Si tienes dudas sobre algún problema o alguna solución, no dudes en dejar una *issue* en el [foro del curso](https://github.com/IIC2233/syllabus/issues)."
   ]
  },
  {
   "cell_type": "markdown",
   "metadata": {},
   "source": [
    "### Ejercicio 1: Validador de fechas"
   ]
  },
  {
   "cell_type": "markdown",
   "metadata": {},
   "source": [
    "Debes completar la variable `regex_validador_fechas`, la cual corresponde a una expresión regular que valida que un texto completo cumple con el siguiente formato: \n",
    "```\n",
    "\"{día} de {mes} de {año}\"\n",
    "```\n",
    "donde:\n",
    "- `día`: Corresponde a un número de hasta 2 dígitos. Puede ser cualquier combinación de estos.\n",
    "- `mes`: Corresponde a una palabra de caracteres alfabéticos.\n",
    "- `año`: Corresponde a un número de 2 o 4 dígitos. En caso de tener 2 dígitos, pueden ser cualquier número, y en caso de tener 4 dígitos, el año solo puede pertenecer al siglo XX o XXI, es decir, años entre 1900 y 2099.\n",
    "- Los distintos números y palabras pueden estar separador por cualquier tipo de espacio en blanco."
   ]
  },
  {
   "cell_type": "code",
   "execution_count": null,
   "metadata": {},
   "outputs": [],
   "source": [
    "import re"
   ]
  },
  {
   "cell_type": "code",
   "execution_count": null,
   "metadata": {},
   "outputs": [],
   "source": [
    "regex_validador_fechas = r\"\"\n",
    "\n",
    "\n",
    "casos_validos = [\n",
    "    \"07\\tde AgosTo de 95\",\n",
    "    \"18 de abril de\\n2018\",\n",
    "    \"30 de JUNIO\\tde 2023\",\n",
    "    \"8 de ctbr de 01\",\n",
    "    \"14 de carzo de 2010\",\n",
    "    \"11 de\\tnoviembre de 22\",\n",
    "    \"46 de ABRIL de 1999\",\n",
    "]\n",
    "\n",
    "print('       CASOS VALIDOS       ')\n",
    "for i, texto in enumerate(casos_validos):\n",
    "    respuesta = re.search(regex_validador_fechas, texto)\n",
    "    print(f'{i:>2} {texto!r:25} {bool(respuesta)}')\n",
    "\n",
    "casos_invalidos = [\n",
    "    \"007 de agosto de 1995\",\n",
    "    \"11 de noviembre de 022\",\n",
    "    \"0 de sept de 20220\",\n",
    "    \"18 de abril de 2118\",\n",
    "    \"30 de junIO de 1823\",\n",
    "    \"8, octubre de 2001\",\n",
    "    \"14/marzo/2010\",\n",
    "    \"6 de 07 de 1999\",\n",
    "]\n",
    "\n",
    "print('\\n       CASOS INVALIDOS       ')\n",
    "for i, texto in enumerate(casos_invalidos):\n",
    "    respuesta = re.search(regex_validador_fechas, texto)\n",
    "    print(f'{i:>2} {texto!r:25} {bool(respuesta)}')\n"
   ]
  },
  {
   "cell_type": "markdown",
   "metadata": {},
   "source": [
    "### Ejercicio 2: Extractor de signos"
   ]
  },
  {
   "cell_type": "markdown",
   "metadata": {},
   "source": [
    "Debes completar la variable `regex_extractor_signo`, la cual corresponde una expresión regular que extrae el signo del zodiaco de frases del tipo:\n",
    "```\n",
    "\"Los {signo} pueden ___.\"\n",
    "\"Las {signo} pueden ___.\"\n",
    "```\n",
    "donde:\n",
    "- `signo`: Corresponde a un sustantivo en plural que indica a las personas que pertenecen a un signo del zodiaco dado.\n",
    "- `___`: Corresponde a cualquier texto que pueda ir después de la palabra “pueden”.\n",
    "- La frase termina con un punto.\n",
    "- Las distintas palabras pueden estar separador por uno o más caracteres del tipo espacio en blanco.\n",
    "\n",
    "Debes hacer un correcto uso de grupos (`( )`) para poder identificar el substring a extraer. Específicamente, se espera que el primer grupo corresponda al signo identificado.\n",
    "\n",
    "A continuación, se entrega un listado de posibles casos válidos e inválidos, junto al signo extraído si corresponde:"
   ]
  },
  {
   "cell_type": "markdown",
   "metadata": {},
   "source": [
    "| Casos válidos | Signo extraído |\n",
    "| - | - |\n",
    "| `\"Las Arianas pueden lograr un 7 en el ramo.\"` | `\"Arianas\"` |\n",
    "| `\"Los taurinos pueden esperar 4 puntos en la actividad.\"` | `\"taurinos\"` |\n",
    "| `\"Las GEMINIANAS pueden experimentar altibajos en los tests.\"` | `\"GEMINIANAS\"` |\n",
    "| `\"Los leoninos pueden encontrar un bug en el código.\"` | `\"leoninos\"` |\n",
    "| `\"Los SignoFalsianos pueden pasar el ramo con 8.\"` | `\"SignoFalsianos\"` |"
   ]
  },
  {
   "cell_type": "markdown",
   "metadata": {},
   "source": [
    "| Casos inválidos | Causa |\n",
    "| - | - |\n",
    "| `\"Los libra pueden recordar hacer git pull.\"` | Signo no está en plural. |\n",
    "| `\"les escorpianos pueden recordar hacer git add.\"` | La primera palabra no es “Las” o “Los”. |\n",
    "| `\"Los sagitarianos recordarán hacer git commit.\"` | Falta la palabra “pueden” después del signo. |\n",
    "| `\"Las piscianas pueden pueden recordar hacer git push\"` | Falta el punto final. |"
   ]
  },
  {
   "cell_type": "code",
   "execution_count": null,
   "metadata": {},
   "outputs": [],
   "source": [
    "import re"
   ]
  },
  {
   "cell_type": "code",
   "execution_count": null,
   "metadata": {},
   "outputs": [],
   "source": [
    "regex_extractor_signo = r\"\"\n",
    "\n",
    "\n",
    "casos_validos = [\n",
    "    \"Los   capricornianos pueden   dormir la mejor siesta del semestre.\",\n",
    "    \"Las\\tSAGITARIANAS\\t\\n\\tpueden vivir el mejor día de su vida.\",\n",
    "    \"Las\\nacuarianas pueden volver a escuchar la mejor canción de su vida.\",\n",
    "    \"Los    escorpianos pueden escuchar música con las aquarianas.\",\n",
    "    \"Las liBRianas pueden ser libres por 1 día.\",\n",
    "    \"Los cncrianos    pueden ver su serie favorita en la noche.\",\n",
    "    \"Las pisqianas pueden    comer su poste favorito mañana.\",\n",
    "]\n",
    "\n",
    "print('       CASOS VALIDOS       ')\n",
    "for i, texto in enumerate(casos_validos):\n",
    "    respuesta = re.search(regex_extractor_signo, texto)\n",
    "    signo = respuesta.group(1)\n",
    "    print(f'{i:>2} {texto!r:75} {bool(respuesta)} [{signo}]')\n",
    "\n",
    "casos_invalidos = [\n",
    "    \"Los_arianos pueden   dormir la mejor siesta del semestre.\",                # No hay espacio entre Los y signo\n",
    "    \"Las pisqianas_pueden    comer su poste favorito mañana.\",                  # No hay espacio entre signo y pueden\n",
    "    \"Lis   tiirinis  pueden   vivir el mejor día de su vida.\",                  # Lis no es Las o Los\n",
    "    \"los\\tacuarianas\\npueden volver a escuchar la mejor canción de su vida.\",   # Los no parte con mayúscula\n",
    "    \"Los escorpio pueden escuchar música con las aquarianas.\",                  # Signo no está en plural\n",
    "    \"Las liBRianas serán libres por 1 día.\",                                    # Falta pueden después del signo\n",
    "    \"Los cncrianos    pueden ver su serie favorita en la noche\",                # Falta el punto al final\n",
    "]\n",
    "\n",
    "print('\\n       CASOS INVALIDOS       ')\n",
    "for i, texto in enumerate(casos_invalidos):\n",
    "    respuesta = re.search(regex_extractor_signo, texto)\n",
    "    print(f'{i:>2} {texto!r:75} {bool(respuesta)}')"
   ]
  }
 ],
 "metadata": {
  "kernelspec": {
   "display_name": "Python 3",
   "language": "python",
   "name": "python3"
  },
  "language_info": {
   "codemirror_mode": {
    "name": "ipython",
    "version": 3
   },
   "file_extension": ".py",
   "mimetype": "text/x-python",
   "name": "python",
   "nbconvert_exporter": "python",
   "pygments_lexer": "ipython3",
   "version": "3.10.12"
  }
 },
 "nbformat": 4,
 "nbformat_minor": 2
}
