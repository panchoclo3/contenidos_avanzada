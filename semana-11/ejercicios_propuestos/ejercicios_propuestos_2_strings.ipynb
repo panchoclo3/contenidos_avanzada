{
 "cells": [
  {
   "cell_type": "markdown",
   "metadata": {},
   "source": [
    "<p>\n",
    "<font size='5' face='Georgia, Arial'>IIC-2233 Apunte Programación Avanzada</font><br>\n",
    "<font size='1'> Actualizados el 2023-2.</font>\n",
    "</p>\n",
    "\n",
    "\n",
    "# Ejercicios propuestos: _Strings_\n",
    "## _Strings_"
   ]
  },
  {
   "cell_type": "markdown",
   "metadata": {},
   "source": [
    "Los siguientes problemas se proveen como oportunidad de ejercitar los conceptos revisados en el material de **_Strings_**. Si tienes dudas sobre algún problema o alguna solución, no dudes en dejar una *issue* en el [foro del curso](https://github.com/IIC2233/syllabus/issues)."
   ]
  },
  {
   "cell_type": "markdown",
   "metadata": {},
   "source": [
    "### Ejercicio 1: Tablas con format"
   ]
  },
  {
   "cell_type": "markdown",
   "metadata": {},
   "source": [
    "Utiliza tus conocimientos de strings y format (o f-strings) para mostrar los platos de un restaurante de comida hindú. \n",
    "\n",
    "Como mínimo deberás procurar que tu menú:\n",
    "* Muestre la información ordenada en una tabla.\n",
    "* Los precios de los platos tengan el símbolo de peso ($) alineado a la izquierda, pero que a la vez los números estén alineados a la derecha.\n",
    "* El nivel de picante y si el plato es vegetariano o no se muestre utilizando algún símbolo.\n",
    "\n",
    "A continuación se muestra como se vería un posible resultado:\n",
    "```\n",
    "       Nombre        |  Precio  | Picante | Vegetariano\n",
    "-------------------- | -------- | ------- | ----------\n",
    "Pollo Tikka Masala   | $  8,500 |   ###   | \n",
    "Paneer Butter Masala | $  9,500 |   ##    | 🌿\n",
    "Biryani de Cordero   | $ 11,500 |  ####   | \n",
    "Samosas              | $  3,500 |   ##    | 🌿\n",
    "Dal Makhani          | $  7,500 |    #    | 🌿\n",
    "Tandoori Chicken     | $  9,000 |   ###   | \n",
    "Chana Masala         | $  7,500 |   ##    | 🌿\n",
    "Rogan Josh           | $ 10,500 |  ####   | \n",
    "Aloo Gobi            | $  6,500 |   ##    | 🌿\n",
    "Malai Kofta          | $  9,500 |   ##    | 🌿\n",
    "```"
   ]
  },
  {
   "cell_type": "code",
   "execution_count": null,
   "metadata": {},
   "outputs": [],
   "source": [
    "from collections import namedtuple\n",
    "\n",
    "Plato = namedtuple('Plato', ['nombre', 'precio', 'nivel_picante', 'es_vegetariano'])\n",
    "\n",
    "menu = [\n",
    "    Plato(\"Pollo Tikka Masala\", 8500, 3, False),\n",
    "    Plato(\"Paneer Butter Masala\", 9500, 2, True),\n",
    "    Plato(\"Biryani de Cordero\", 11500, 4, False),\n",
    "    Plato(\"Samosas\", 3500, 2, True),\n",
    "    Plato(\"Dal Makhani\", 7500, 1, True),\n",
    "    Plato(\"Tandoori Chicken\", 9000, 3, False),\n",
    "    Plato(\"Chana Masala\", 7500, 2, True),\n",
    "    Plato(\"Rogan Josh\", 10500, 4, False),\n",
    "    Plato(\"Aloo Gobi\", 6500, 2, True),\n",
    "    Plato(\"Malai Kofta\", 9500, 2, True)\n",
    "]"
   ]
  },
  {
   "cell_type": "code",
   "execution_count": null,
   "metadata": {},
   "outputs": [],
   "source": []
  }
 ],
 "metadata": {
  "kernelspec": {
   "display_name": "Python 3",
   "language": "python",
   "name": "python3"
  },
  "language_info": {
   "codemirror_mode": {
    "name": "ipython",
    "version": 3
   },
   "file_extension": ".py",
   "mimetype": "text/x-python",
   "name": "python",
   "nbconvert_exporter": "python",
   "pygments_lexer": "ipython3",
   "version": "3.10.12"
  }
 },
 "nbformat": 4,
 "nbformat_minor": 2
}
